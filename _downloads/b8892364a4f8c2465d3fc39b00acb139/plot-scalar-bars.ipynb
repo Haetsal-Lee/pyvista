{
  "cells": [
    {
      "cell_type": "code",
      "execution_count": null,
      "outputs": [],
      "metadata": {
        "collapsed": false
      },
      "source": [
        "%matplotlib inline"
      ]
    },
    {
      "cell_type": "markdown",
      "source": [
        "\nCustomize Scalar Bars\n~~~~~~~~~~~~~~~~~~~~~\n\nWalk through of all the different capabilities of scalar bars and\nhow a user can customize scalar bars.\n\n\n"
      ],
      "metadata": {}
    },
    {
      "cell_type": "code",
      "execution_count": null,
      "outputs": [],
      "metadata": {
        "collapsed": false
      },
      "source": [
        "# sphinx_gallery_thumbnail_number = 2\nimport vtki\nfrom vtki import examples"
      ]
    },
    {
      "cell_type": "markdown",
      "source": [
        "By default, when plotting a dataset with a scalar array, a scalar bar for that\narray is added. To turn off this behavior, a user could specify\n``show_scalar_bar=False`` when calling ``.add_mesh()``. Let's start with a\nsample dataset provide via ``vtki`` to demonstrate the default behavior of\nscalar bar plotting:\n\n"
      ],
      "metadata": {}
    },
    {
      "cell_type": "code",
      "execution_count": null,
      "outputs": [],
      "metadata": {
        "collapsed": false
      },
      "source": [
        "# Load St Helens DEM and warp the topography\nmesh = examples.download_st_helens().warp_by_scalar()\n\n# First a default plot with jet colormap\np = vtki.Plotter()\n# Add the data, use active scalar for coloring, and show the scalar bar\np.add_mesh(mesh)\n# Display the scene\np.show()"
      ]
    },
    {
      "cell_type": "markdown",
      "source": [
        "We could also plot the scene with an interactive scalar bar to move around and\nplace where we like by specifying passing keyword arguments to control the\nscalar bar via the ``scalar_bar_args`` parameter in :func:`vtki.BasePlotter.add_mesh`.\nThe keyword arguments to control the scalar bar are defined in\n:func:`vtki.BasePlotter.add_scalar_bar`.\n\n"
      ],
      "metadata": {}
    },
    {
      "cell_type": "code",
      "execution_count": null,
      "outputs": [],
      "metadata": {
        "collapsed": false
      },
      "source": [
        "# create dictionary of parameters to control scalar bar\nsargs = dict(interactive=True) # Simply make the bar interactive\n\np = vtki.Plotter(notebook=False) # If in IPython, be sure to show the scene\np.add_mesh(mesh, scalar_bar_args=sargs)\np.show()\n# Remove from plotters so output is not produced in docs\nvtki.plotting._ALL_PLOTTERS.pop(str(hex(id(p))))"
      ]
    },
    {
      "cell_type": "markdown",
      "source": [
        ".. figure:: ../../images/gifs/scalar-bar-interactive.gif\n\nOr manually define the scalar bar's location:\n\n"
      ],
      "metadata": {}
    },
    {
      "cell_type": "code",
      "execution_count": null,
      "outputs": [],
      "metadata": {
        "collapsed": false
      },
      "source": [
        "# Set a custom position and size\nsargs = dict(height=0.25, vertical=True,\n             position_x=0.05, position_y=0.05)\n\np = vtki.Plotter()\np.add_mesh(mesh, scalar_bar_args=sargs)\np.show()"
      ]
    },
    {
      "cell_type": "markdown",
      "source": [
        "The text properties of the scalar bar can also be controlled:\n\n"
      ],
      "metadata": {}
    },
    {
      "cell_type": "code",
      "execution_count": null,
      "outputs": [],
      "metadata": {
        "collapsed": false
      },
      "source": [
        "# Controlling the text properties\nsargs = dict(title_font_size=20, label_font_size=16,\n         shadow=True, n_labels=3, italic=True, fmt='%.1f',\n         font_family='arial')\n\np = vtki.Plotter()\np.add_mesh(mesh, scalar_bar_args=sargs)\np.show()"
      ]
    }
  ],
  "nbformat": 4,
  "metadata": {
    "kernelspec": {
      "language": "python",
      "display_name": "Python 3",
      "name": "python3"
    },
    "language_info": {
      "nbconvert_exporter": "python",
      "codemirror_mode": {
        "version": 3,
        "name": "ipython"
      },
      "pygments_lexer": "ipython3",
      "file_extension": ".py",
      "version": "3.5.6",
      "mimetype": "text/x-python",
      "name": "python"
    }
  },
  "nbformat_minor": 0
}