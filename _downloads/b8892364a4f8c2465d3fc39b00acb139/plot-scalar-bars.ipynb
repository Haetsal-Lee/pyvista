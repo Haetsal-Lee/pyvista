{
  "nbformat_minor": 0,
  "metadata": {
    "kernelspec": {
      "language": "python",
      "name": "python3",
      "display_name": "Python 3"
    },
    "language_info": {
      "name": "python",
      "version": "3.5.6",
      "mimetype": "text/x-python",
      "codemirror_mode": {
        "name": "ipython",
        "version": 3
      },
      "nbconvert_exporter": "python",
      "pygments_lexer": "ipython3",
      "file_extension": ".py"
    }
  },
  "nbformat": 4,
  "cells": [
    {
      "outputs": [],
      "execution_count": null,
      "metadata": {
        "collapsed": false
      },
      "cell_type": "code",
      "source": [
        "%matplotlib inline"
      ]
    },
    {
      "metadata": {},
      "cell_type": "markdown",
      "metadata": {},
      "source": [
        "\nCustomize Scalar Bars\n~~~~~~~~~~~~~~~~~~~~~\n\nWalk through of all the different capabilities of scalar bars and\nhow a user can customize scalar bars.\n\n\n"
      ]
    },
    {
      "outputs": [],
      "execution_count": null,
      "metadata": {
        "collapsed": false
      },
      "cell_type": "code",
      "source": [
        "# sphinx_gallery_thumbnail_number = 2\nimport vtki\nfrom vtki import examples"
      ]
    },
    {
      "metadata": {},
      "cell_type": "markdown",
      "metadata": {},
      "source": [
        "By default, when plotting a dataset with a scalar array, a scalar bar for that\narray is added. To turn off this behavior, a user could specify\n``show_scalar_bar=False`` when calling ``.add_mesh()``. Let's start with a\nsample dataset provide via ``vtki`` to demonstrate the default behavior of\nscalar bar plotting:\n\n"
      ]
    },
    {
      "outputs": [],
      "execution_count": null,
      "metadata": {
        "collapsed": false
      },
      "cell_type": "code",
      "source": [
        "# Load St Helens DEM and warp the topography\nmesh = examples.download_st_helens().warp_by_scalar()\n\n# First a default plot with jet colormap\np = vtki.Plotter()\n# Add the data, use active scalar for coloring, and show the scalar bar\np.add_mesh(mesh)\n# Display the scene\np.show()"
      ]
    },
    {
      "metadata": {},
      "cell_type": "markdown",
      "metadata": {},
      "source": [
        "We could also plot the scene with an interactive scalar bar to move around and\nplace where we like by specifying passing keyword arguments to control the\nscalar bar via the ``scalar_bar_args`` parameter in :func:`vtki.BasePlotter.add_mesh`.\nThe keyword arguments to control the scalar bar are defined in\n:func:`vtki.BasePlotter.add_scalar_bar`.\n\n"
      ]
    },
    {
      "outputs": [],
      "execution_count": null,
      "metadata": {
        "collapsed": false
      },
      "cell_type": "code",
      "source": [
        "# create dictionary of parameters to control scalar bar\nsargs = dict(interactive=True) # Simply make the bar interactive\n\np = vtki.Plotter(notebook=False) # If in IPython, be sure to show the scene\np.add_mesh(mesh, scalar_bar_args=sargs)\np.show()\n# Remove from plotters so output is not produced in docs\nvtki.plotting._ALL_PLOTTERS.pop(str(hex(id(p))))"
      ]
    },
    {
      "metadata": {},
      "cell_type": "markdown",
      "metadata": {},
      "source": [
        ".. figure:: ../../images/gifs/scalar-bar-interactive.gif\n\nOr manually define the scalar bar's location:\n\n"
      ]
    },
    {
      "outputs": [],
      "execution_count": null,
      "metadata": {
        "collapsed": false
      },
      "cell_type": "code",
      "source": [
        "# Set a custom position and size\nsargs = dict(height=0.25, vertical=True,\n             position_x=0.05, position_y=0.05)\n\np = vtki.Plotter()\np.add_mesh(mesh, scalar_bar_args=sargs)\np.show()"
      ]
    },
    {
      "metadata": {},
      "cell_type": "markdown",
      "metadata": {},
      "source": [
        "The text properties of the scalar bar can also be controlled:\n\n"
      ]
    },
    {
      "outputs": [],
      "execution_count": null,
      "metadata": {
        "collapsed": false
      },
      "cell_type": "code",
      "source": [
        "# Controlling the text properties\nsargs = dict(title_font_size=20, label_font_size=16,\n         shadow=True, n_labels=3, italic=True, fmt='%.1f',\n         font_family='arial')\n\np = vtki.Plotter()\np.add_mesh(mesh, scalar_bar_args=sargs)\np.show()"
      ]
    }
  ]
}