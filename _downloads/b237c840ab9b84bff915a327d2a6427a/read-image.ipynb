{
  "cells": [
    {
      "cell_type": "code",
      "execution_count": null,
      "outputs": [],
      "metadata": {
        "collapsed": false
      },
      "source": [
        "%matplotlib inline"
      ]
    },
    {
      "cell_type": "markdown",
      "source": [
        "\nRead Image Files\n~~~~~~~~~~~~~~~~\n\nRead and plot image files (JPEG, TIFF, PNG, etc).\n\n\n"
      ],
      "metadata": {}
    },
    {
      "cell_type": "code",
      "execution_count": null,
      "outputs": [],
      "metadata": {
        "collapsed": false
      },
      "source": [
        "from vtki import examples"
      ]
    },
    {
      "cell_type": "markdown",
      "source": [
        "``vtki`` fully supportes reading images into their own spatially referenced\ndata objects (this example) as well as supports texture mapping of images onto\ndatasets (see `ref_texture_example`).\n\nDownload a JPEG image of a puppy and load it to :class:`vtki.UniformGrid`.\nThis could similarly be implemented with any image file by using the\n:func:`vtki.read` function and passing the path to the image file.\n\n"
      ],
      "metadata": {}
    },
    {
      "cell_type": "code",
      "execution_count": null,
      "outputs": [],
      "metadata": {
        "collapsed": false
      },
      "source": [
        "image = examples.download_puppy()\n# or...\n# image = vtki.read('my_image.jpg')"
      ]
    },
    {
      "cell_type": "markdown",
      "source": [
        "When plotting images stored in :class:`vtki.UniformGrid` objects, it is\nimportant to specify usign the `rgb` option when plotting to ensure that the\nimage's true colors are used and not mapped.\n\n"
      ],
      "metadata": {}
    },
    {
      "cell_type": "code",
      "execution_count": null,
      "outputs": [],
      "metadata": {
        "collapsed": false
      },
      "source": [
        "# True image colors\nimage.plot(rgb=True, cpos='xy')"
      ]
    },
    {
      "cell_type": "code",
      "execution_count": null,
      "outputs": [],
      "metadata": {
        "collapsed": false
      },
      "source": [
        "# Mapped image colors\nimage.plot(cpos='xy')"
      ]
    }
  ],
  "nbformat": 4,
  "metadata": {
    "kernelspec": {
      "language": "python",
      "display_name": "Python 3",
      "name": "python3"
    },
    "language_info": {
      "nbconvert_exporter": "python",
      "codemirror_mode": {
        "version": 3,
        "name": "ipython"
      },
      "pygments_lexer": "ipython3",
      "file_extension": ".py",
      "version": "3.5.6",
      "mimetype": "text/x-python",
      "name": "python"
    }
  },
  "nbformat_minor": 0
}