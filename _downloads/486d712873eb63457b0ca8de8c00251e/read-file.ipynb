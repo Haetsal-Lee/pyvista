{
  "cells": [
    {
      "cell_type": "code",
      "execution_count": null,
      "outputs": [],
      "metadata": {
        "collapsed": false
      },
      "source": [
        "%matplotlib inline"
      ]
    },
    {
      "cell_type": "markdown",
      "source": [
        "\nLoad and Plot from a File\n~~~~~~~~~~~~~~~~~~~~~~~~~\n\nRead a dataset from a known file type.\n\n\n"
      ],
      "metadata": {}
    },
    {
      "cell_type": "markdown",
      "source": [
        "Loading a mesh is trivial.  The following code block uses a built-in example\nfile and displays an airplane mesh.\n\n"
      ],
      "metadata": {}
    },
    {
      "cell_type": "code",
      "execution_count": null,
      "outputs": [],
      "metadata": {
        "collapsed": false
      },
      "source": [
        "import vtki\nfrom vtki import examples\nimport numpy as np\nimport matplotlib.pyplot as plt"
      ]
    },
    {
      "cell_type": "markdown",
      "source": [
        "Loading a mesh is trivial.  The following code block uses a built-in example\nfile, displays an airplane mesh, saves a screenshot, and returns the camera's\nposition:\n\n"
      ],
      "metadata": {}
    },
    {
      "cell_type": "code",
      "execution_count": null,
      "outputs": [],
      "metadata": {
        "collapsed": false
      },
      "source": [
        "# Get a sample file\nfilename = examples.planefile\nmesh = vtki.read(filename)\ncpos = mesh.plot()"
      ]
    },
    {
      "cell_type": "markdown",
      "source": [
        "You can also take a screenshot without creating an interactive plot window using\nthe ``Plotter``:\n\n"
      ],
      "metadata": {}
    },
    {
      "cell_type": "code",
      "execution_count": null,
      "outputs": [],
      "metadata": {
        "collapsed": false
      },
      "source": [
        "plotter = vtki.Plotter(off_screen=True)\nplotter.add_mesh(mesh)\nplotter.show(auto_close=False)\n# plotter.screenshot('airplane.png')\nplotter.close()"
      ]
    },
    {
      "cell_type": "markdown",
      "source": [
        "The ``img`` array can be used to plot the screenshot in ``matplotlib``:\n\n"
      ],
      "metadata": {}
    },
    {
      "cell_type": "code",
      "execution_count": null,
      "outputs": [],
      "metadata": {
        "collapsed": false
      },
      "source": [
        "plt.imshow(plotter.image)\nplt.show()"
      ]
    },
    {
      "cell_type": "markdown",
      "source": [
        "If you need to setup the camera you can do this by plotting first and getting\nthe camera after running the ``plot`` function:\n\n"
      ],
      "metadata": {}
    },
    {
      "cell_type": "code",
      "execution_count": null,
      "outputs": [],
      "metadata": {
        "collapsed": false
      },
      "source": [
        "plotter = vtki.Plotter()\nplotter.add_mesh(mesh)\ncpos = plotter.show()"
      ]
    },
    {
      "cell_type": "markdown",
      "source": [
        "You can then use this cached camera for additional plotting without having to\nmanually interact with the ``vtk`` plot window:\n\n"
      ],
      "metadata": {}
    },
    {
      "cell_type": "code",
      "execution_count": null,
      "outputs": [],
      "metadata": {
        "collapsed": false
      },
      "source": [
        "plotter = vtki.Plotter(off_screen=True)\nplotter.add_mesh(mesh)\nplotter.camera_position = cpos\nplotter.show(auto_close=False)\n# plotter.screenshot('airplane.png')\nplotter.close()"
      ]
    },
    {
      "cell_type": "markdown",
      "source": [
        "The points from the mesh are directly accessible as a NumPy array:\n\n"
      ],
      "metadata": {}
    },
    {
      "cell_type": "code",
      "execution_count": null,
      "outputs": [],
      "metadata": {
        "collapsed": false
      },
      "source": [
        "print(mesh.points)"
      ]
    },
    {
      "cell_type": "markdown",
      "source": [
        "The faces from the mesh are also directly accessible as a NumPy array:\n\n"
      ],
      "metadata": {}
    },
    {
      "cell_type": "code",
      "execution_count": null,
      "outputs": [],
      "metadata": {
        "collapsed": false
      },
      "source": [
        "print(mesh.faces.reshape(-1, 4)[:, 1:])"
      ]
    }
  ],
  "nbformat": 4,
  "metadata": {
    "kernelspec": {
      "language": "python",
      "display_name": "Python 3",
      "name": "python3"
    },
    "language_info": {
      "nbconvert_exporter": "python",
      "codemirror_mode": {
        "version": 3,
        "name": "ipython"
      },
      "pygments_lexer": "ipython3",
      "file_extension": ".py",
      "version": "3.5.6",
      "mimetype": "text/x-python",
      "name": "python"
    }
  },
  "nbformat_minor": 0
}