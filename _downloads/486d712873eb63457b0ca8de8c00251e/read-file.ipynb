{
  "nbformat_minor": 0,
  "metadata": {
    "kernelspec": {
      "language": "python",
      "name": "python3",
      "display_name": "Python 3"
    },
    "language_info": {
      "name": "python",
      "version": "3.5.6",
      "mimetype": "text/x-python",
      "codemirror_mode": {
        "name": "ipython",
        "version": 3
      },
      "nbconvert_exporter": "python",
      "pygments_lexer": "ipython3",
      "file_extension": ".py"
    }
  },
  "nbformat": 4,
  "cells": [
    {
      "outputs": [],
      "execution_count": null,
      "metadata": {
        "collapsed": false
      },
      "cell_type": "code",
      "source": [
        "%matplotlib inline"
      ]
    },
    {
      "metadata": {},
      "cell_type": "markdown",
      "metadata": {},
      "source": [
        "\nLoad and Plot from a File\n~~~~~~~~~~~~~~~~~~~~~~~~~\n\nRead a dataset from a known file type.\n\n\n"
      ]
    },
    {
      "metadata": {},
      "cell_type": "markdown",
      "metadata": {},
      "source": [
        "Loading a mesh is trivial.  The following code block uses a built-in example\nfile and displays an airplane mesh.\n\n"
      ]
    },
    {
      "outputs": [],
      "execution_count": null,
      "metadata": {
        "collapsed": false
      },
      "cell_type": "code",
      "source": [
        "import vtki\nfrom vtki import examples\nimport numpy as np\nimport matplotlib.pyplot as plt"
      ]
    },
    {
      "metadata": {},
      "cell_type": "markdown",
      "metadata": {},
      "source": [
        "Loading a mesh is trivial.  The following code block uses a built-in example\nfile, displays an airplane mesh, saves a screenshot, and returns the camera's\nposition:\n\n"
      ]
    },
    {
      "outputs": [],
      "execution_count": null,
      "metadata": {
        "collapsed": false
      },
      "cell_type": "code",
      "source": [
        "# Get a sample file\nfilename = examples.planefile\nmesh = vtki.read(filename)\ncpos = mesh.plot()"
      ]
    },
    {
      "metadata": {},
      "cell_type": "markdown",
      "metadata": {},
      "source": [
        "You can also take a screenshot without creating an interactive plot window using\nthe ``Plotter``:\n\n"
      ]
    },
    {
      "outputs": [],
      "execution_count": null,
      "metadata": {
        "collapsed": false
      },
      "cell_type": "code",
      "source": [
        "plotter = vtki.Plotter(off_screen=True)\nplotter.add_mesh(mesh)\nplotter.show(auto_close=False)\n# plotter.screenshot('airplane.png')\nplotter.close()"
      ]
    },
    {
      "metadata": {},
      "cell_type": "markdown",
      "metadata": {},
      "source": [
        "The ``img`` array can be used to plot the screenshot in ``matplotlib``:\n\n"
      ]
    },
    {
      "outputs": [],
      "execution_count": null,
      "metadata": {
        "collapsed": false
      },
      "cell_type": "code",
      "source": [
        "plt.imshow(plotter.image)\nplt.show()"
      ]
    },
    {
      "metadata": {},
      "cell_type": "markdown",
      "metadata": {},
      "source": [
        "If you need to setup the camera you can do this by plotting first and getting\nthe camera after running the ``plot`` function:\n\n"
      ]
    },
    {
      "outputs": [],
      "execution_count": null,
      "metadata": {
        "collapsed": false
      },
      "cell_type": "code",
      "source": [
        "plotter = vtki.Plotter()\nplotter.add_mesh(mesh)\ncpos = plotter.show()"
      ]
    },
    {
      "metadata": {},
      "cell_type": "markdown",
      "metadata": {},
      "source": [
        "You can then use this cached camera for additional plotting without having to\nmanually interact with the ``vtk`` plot window:\n\n"
      ]
    },
    {
      "outputs": [],
      "execution_count": null,
      "metadata": {
        "collapsed": false
      },
      "cell_type": "code",
      "source": [
        "plotter = vtki.Plotter(off_screen=True)\nplotter.add_mesh(mesh)\nplotter.camera_position = cpos\nplotter.show(auto_close=False)\n# plotter.screenshot('airplane.png')\nplotter.close()"
      ]
    },
    {
      "metadata": {},
      "cell_type": "markdown",
      "metadata": {},
      "source": [
        "The points from the mesh are directly accessible as a NumPy array:\n\n"
      ]
    },
    {
      "outputs": [],
      "execution_count": null,
      "metadata": {
        "collapsed": false
      },
      "cell_type": "code",
      "source": [
        "print(mesh.points)"
      ]
    },
    {
      "metadata": {},
      "cell_type": "markdown",
      "metadata": {},
      "source": [
        "The faces from the mesh are also directly accessible as a NumPy array:\n\n"
      ]
    },
    {
      "outputs": [],
      "execution_count": null,
      "metadata": {
        "collapsed": false
      },
      "cell_type": "code",
      "source": [
        "print(mesh.faces.reshape(-1, 4)[:, 1:])"
      ]
    }
  ],
  "metadata": {
    "kernelspec": {
      "display_name": "Python 3",
      "language": "python",
      "name": "python3"
    },
    "language_info": {
      "codemirror_mode": {
        "name": "ipython",
        "version": 3
      },
      "file_extension": ".py",
      "mimetype": "text/x-python",
      "name": "python",
      "nbconvert_exporter": "python",
      "pygments_lexer": "ipython3",
      "version": "3.6.7"
    }
  },
  "nbformat": 4,
  "nbformat_minor": 0
}