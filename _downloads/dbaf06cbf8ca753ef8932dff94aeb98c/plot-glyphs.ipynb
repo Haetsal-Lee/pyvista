{
  "cells": [
    {
      "cell_type": "code",
      "execution_count": null,
      "metadata": {
        "collapsed": false
      },
      "outputs": [],
      "source": [
        "%matplotlib inline"
      ]
    },
    {
      "cell_type": "markdown",
      "metadata": {},
      "source": [
        "\n\nPlotting Glyphs\n~~~~~~~~~~~~~~~\n\nUse vectors in a dataset to plot and orient glyphs/geometric objects.\n"
      ]
    },
    {
      "cell_type": "code",
      "execution_count": null,
      "metadata": {
        "collapsed": false
      },
      "outputs": [],
      "source": [
        "# sphinx_gallery_thumbnail_number = 1\nimport vista\nfrom vista import examples\nimport numpy as np"
      ]
    },
    {
      "cell_type": "markdown",
      "metadata": {},
      "source": [
        "Glyphying can be done via the :func:`vista.DataSetFilters.glyph` filter\n\n"
      ]
    },
    {
      "cell_type": "code",
      "execution_count": null,
      "metadata": {
        "collapsed": false
      },
      "outputs": [],
      "source": [
        "mesh = examples.download_carotid().threshold(145, scalars='scalars')\n\n# Make a geometric obhect to use as the glyph\ngeom = vista.Arrow() # This could be any dataset\n\n# Perform the glyph\nglyphs = mesh.glyph(orient='vectors', scale='scalars', factor=0.005, geom=geom)\n\n# plot using the plotting class\np = vista.Plotter()\np.add_mesh(glyphs)\n# Set a cool camera position\np.camera_position = [(84.58052237950857, 77.76332116787425, 27.208569926456548),\n (131.39486171068918, 99.871379394528, 20.082859824932008),\n (0.13483731007732908, 0.033663777790747404, 0.9902957385932576)]\np.show()"
      ]
    },
    {
      "cell_type": "markdown",
      "metadata": {},
      "source": [
        "Another approach is to load the vectors directly to the mesh object and then\naccess the :attr:`vista.Common.arrows` property.\n\n"
      ]
    },
    {
      "cell_type": "code",
      "execution_count": null,
      "metadata": {
        "collapsed": false
      },
      "outputs": [],
      "source": [
        "sphere = vista.Sphere(radius=3.14)\n\n# make cool swirly pattern\nvectors = np.vstack((np.sin(sphere.points[:, 0]),\nnp.cos(sphere.points[:, 1]),\nnp.cos(sphere.points[:, 2]))).T\n\n# add and scale\nsphere.vectors = vectors*0.3\n\n# plot just the arrows\nsphere.arrows.plot()"
      ]
    },
    {
      "cell_type": "code",
      "execution_count": null,
      "metadata": {
        "collapsed": false
      },
      "outputs": [],
      "source": [
        "# plot the arrows and the sphere\np = vista.Plotter()\np.add_mesh(sphere.arrows, lighting=False, stitle='Vector Magnitude')\np.add_mesh(sphere, color='grey', ambient=0.6, opacity=0.5, show_edges=False)\np.show()"
      ]
    }
  ],
  "metadata": {
    "kernelspec": {
      "display_name": "Python 3",
      "language": "python",
      "name": "python3"
    },
    "language_info": {
      "codemirror_mode": {
        "name": "ipython",
        "version": 3
      },
      "file_extension": ".py",
      "mimetype": "text/x-python",
      "name": "python",
      "nbconvert_exporter": "python",
      "pygments_lexer": "ipython3",
      "version": "3.7.1"
    }
  },
  "nbformat": 4,
  "nbformat_minor": 0
}