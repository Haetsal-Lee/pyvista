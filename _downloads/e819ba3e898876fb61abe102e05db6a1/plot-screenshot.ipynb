{
  "cells": [
    {
      "cell_type": "code",
      "execution_count": null,
      "outputs": [],
      "metadata": {
        "collapsed": false
      },
      "source": [
        "%matplotlib inline"
      ]
    },
    {
      "cell_type": "markdown",
      "source": [
        "\nSaving Screenshots\n~~~~~~~~~~~~~~~~~~\n\n"
      ],
      "metadata": {}
    },
    {
      "cell_type": "code",
      "execution_count": null,
      "outputs": [],
      "metadata": {
        "collapsed": false
      },
      "source": [
        "# sphinx_gallery_thumbnail_number = 2\nimport vtki\nfrom vtki import examples\nimport numpy as np\nimport matplotlib.pyplot as plt\n\n# Get a sample file\nfilename = examples.planefile\nmesh = vtki.read(filename)"
      ]
    },
    {
      "cell_type": "markdown",
      "source": [
        "You can also take a screenshot without creating an interactive plot window using\nthe ``Plotter``:\n\n"
      ],
      "metadata": {}
    },
    {
      "cell_type": "code",
      "execution_count": null,
      "outputs": [],
      "metadata": {
        "collapsed": false
      },
      "source": [
        "plotter = vtki.Plotter(off_screen=True)\nplotter.add_mesh(mesh, color='orange')\nplotter.show(auto_close=False)\n# plotter.screenshot('airplane.png')\nplotter.close()"
      ]
    },
    {
      "cell_type": "markdown",
      "source": [
        "The ``img`` array can be used to plot the screenshot in ``matplotlib``:\n\n"
      ],
      "metadata": {}
    },
    {
      "cell_type": "code",
      "execution_count": null,
      "outputs": [],
      "metadata": {
        "collapsed": false
      },
      "source": [
        "plt.imshow(plotter.image)\nplt.show()"
      ]
    }
  ],
  "nbformat": 4,
  "metadata": {
    "kernelspec": {
      "language": "python",
      "display_name": "Python 3",
      "name": "python3"
    },
    "language_info": {
      "nbconvert_exporter": "python",
      "codemirror_mode": {
        "version": 3,
        "name": "ipython"
      },
      "pygments_lexer": "ipython3",
      "file_extension": ".py",
      "version": "3.5.6",
      "mimetype": "text/x-python",
      "name": "python"
    }
  },
  "nbformat_minor": 0
}