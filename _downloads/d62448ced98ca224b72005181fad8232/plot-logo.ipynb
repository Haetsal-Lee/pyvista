{
  "cells": [
    {
      "cell_type": "code",
      "execution_count": null,
      "metadata": {
        "collapsed": false
      },
      "outputs": [],
      "source": [
        "%matplotlib inline"
      ]
    },
    {
      "cell_type": "markdown",
      "metadata": {},
      "source": [
        "\nCreate Our Logo\n~~~~~~~~~~~~~~~\n\nThink our logo is awesome? Create it yourself!\n"
      ]
    },
    {
      "cell_type": "code",
      "execution_count": null,
      "metadata": {
        "collapsed": false
      },
      "outputs": [],
      "source": [
        "# sphinx_gallery_thumbnail_number = 2\nimport vtki\nimport numpy as np"
      ]
    },
    {
      "cell_type": "code",
      "execution_count": null,
      "metadata": {
        "collapsed": false
      },
      "outputs": [],
      "source": [
        "# mesh for each letter\nspace = 0.3\nmesh_letters = vtki.MultiBlock()\nwidth = 0\ndensity = 0.03\nfor letter in 'vtki':\n    mesh_letter = vtki.Text3D(letter, depth=0.3)\n    this_letter_width = mesh_letter.points[:, 0].max()\n    mesh_letter.translate([width + space, 0, 0.0])\n    width += this_letter_width\n    mesh_letters[letter] = mesh_letter\n\ngrid = vtki.voxelize(vtki.Text3D('vtki'), 0.05)\ngrid.plot(color='w', show_edges=True)"
      ]
    },
    {
      "cell_type": "code",
      "execution_count": null,
      "metadata": {
        "collapsed": false
      },
      "outputs": [],
      "source": [
        "v_grid = vtki.voxelize(mesh_letters['v'], density=0.03)\nt_grid = vtki.voxelize(mesh_letters['t'], density=0.07)\nk_grid = vtki.voxelize(mesh_letters['k'], density=0.08)\ni_grid = vtki.voxelize(mesh_letters['i'], 0.05)\n\nv_mesh = v_grid.triangulate().extract_geometry().decimate_pro(0.9)"
      ]
    },
    {
      "cell_type": "code",
      "execution_count": null,
      "metadata": {
        "collapsed": false
      },
      "outputs": [],
      "source": [
        "# plot letters\nplotter = vtki.Plotter(window_size=np.array([1024, 512]) * 2)\n\n# Add the V\nplotter.add_mesh(v_mesh, color='w', show_edges=True)\n\n# Add the T\nplotter.add_mesh(t_grid.extract_surface(),\n                 style='points', color='r', render_points_as_spheres=True,\n                 point_size=12)\nplotter.add_mesh(t_grid, style='wireframe', color='k', line_width=3, )\n\n\n# Add the K\n# isolate the cells of k_grid\n# cells = []\nx_min, x_max, y_min, y_max, z_min, z_max = k_grid.bounds\nx_width = x_max - x_min\nx_move = 2.1\nspread = 1.4\nx_mean, y_mean, z_mean = k_grid.points.mean(0)\nkeep = []\nscalars = []\n# as x in increases, k cells will shift outward\nfor i in range(k_grid.n_cells):\n    cell = k_grid.extract_cells([i])\n    orig_cell = cell.copy()\n    x_dist = np.mean(cell.bounds[:2])\n    fac = x_dist - x_move\n    x_shift = 0\n    y_dist = np.mean(cell.bounds[2:4])\n    z_dist = np.mean(cell.bounds[4:]) - z_mean\n    if fac > 0:\n        fac = fac**1.5\n        cell.translate([x_shift, y_dist*fac*spread, z_dist*fac*spread])\n    # cells.append(cell)\n\n    opacity = (x_max - x_dist)/x_width\n    if opacity > 0.5:\n        keep.append(i)\n        scalars.append(x_dist + 0.2)\n        # plotter.add_mesh(orig_cell, style='surface', color='w', cmap='Greys_r',\n        #                  scalars=[x_dist + 0.2], rng=[x_min, x_max],\n        #                  show_edges=True)\n    else:\n        # opactity = opacity\n        plotter.add_mesh(cell, color='w', show_edges=True, opacity=opacity)\n\nkeep_k = k_grid.extract_cells(keep)\nplotter.add_mesh(keep_k, scalars=scalars, cmap='Greys_r', rng=[x_min, x_max],\n                 show_edges=True)\n\n\n# Add the I\nplotter.add_mesh(i_grid, color='w', style='wireframe', line_width=3,\n                 scalars=i_grid.points[:, 1], cmap='bwr')\n\n# Show\nplotter.set_background('white')\n\nplotter.camera_position = [(0.124, 1.100, 3.338),\n                           (1.716, 0.379, 0.143),\n                           (0.091, 0.980, -0.176)]\n\n\n\nsave_it = False\nif save_it:\n    plotter.show(auto_close=False)\n    plotter.screenshot('vtki_logo.png', transparent_background=True)\n    plotter.close()\nelse:\n    plotter.show()"
      ]
    }
  ],
  "metadata": {
    "kernelspec": {
      "display_name": "Python 3",
      "language": "python",
      "name": "python3"
    },
    "language_info": {
      "codemirror_mode": {
        "name": "ipython",
        "version": 3
      },
      "file_extension": ".py",
      "mimetype": "text/x-python",
      "name": "python",
      "nbconvert_exporter": "python",
      "pygments_lexer": "ipython3",
      "version": "3.7.1"
    }
  },
  "nbformat": 4,
  "nbformat_minor": 0
}