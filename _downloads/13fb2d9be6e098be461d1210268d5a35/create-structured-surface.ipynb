{
  "cells": [
    {
      "cell_type": "code",
      "execution_count": null,
      "outputs": [],
      "metadata": {
        "collapsed": false
      },
      "source": [
        "%matplotlib inline"
      ]
    },
    {
      "cell_type": "markdown",
      "source": [
        "\n\nCreating a Structured Surface\n~~~~~~~~~~~~~~~~~~~~~~~~~~~~~\n\nCreate a StructuredGrid surface from NumPy arrays\n\n"
      ],
      "metadata": {}
    },
    {
      "cell_type": "code",
      "execution_count": null,
      "outputs": [],
      "metadata": {
        "collapsed": false
      },
      "source": [
        "# sphinx_gallery_thumbnail_number = 2\nimport vtki\nimport numpy as np"
      ]
    },
    {
      "cell_type": "markdown",
      "source": [
        "Create a simple meshgrid using NumPy\n\n"
      ],
      "metadata": {}
    },
    {
      "cell_type": "code",
      "execution_count": null,
      "outputs": [],
      "metadata": {
        "collapsed": false
      },
      "source": [
        "# Make data\nx = np.arange(-10, 10, 0.25)\ny = np.arange(-10, 10, 0.25)\nx, y = np.meshgrid(x, y)\nr = np.sqrt(x**2 + y**2)\nz = np.sin(r)"
      ]
    },
    {
      "cell_type": "markdown",
      "source": [
        "Now pass the NumPy meshgrid to ``vtki``\n\n"
      ],
      "metadata": {}
    },
    {
      "cell_type": "code",
      "execution_count": null,
      "outputs": [],
      "metadata": {
        "collapsed": false
      },
      "source": [
        "# Create and plot structured grid\ngrid = vtki.StructuredGrid(x, y, z)\ngrid.plot()"
      ]
    },
    {
      "cell_type": "code",
      "execution_count": null,
      "outputs": [],
      "metadata": {
        "collapsed": false
      },
      "source": [
        "# Plot mean curvature as well\ngrid.plot_curvature(clim=[-1, 1])"
      ]
    },
    {
      "cell_type": "markdown",
      "source": [
        "Generating a structured grid is a one liner in this module, and the points from\nthe resulting surface can be accessed as a NumPy array:\n\n"
      ],
      "metadata": {}
    },
    {
      "cell_type": "code",
      "execution_count": null,
      "outputs": [],
      "metadata": {
        "collapsed": false
      },
      "source": [
        "print(grid.points)"
      ]
    }
  ],
  "nbformat": 4,
  "metadata": {
    "kernelspec": {
      "language": "python",
      "display_name": "Python 3",
      "name": "python3"
    },
    "language_info": {
      "nbconvert_exporter": "python",
      "codemirror_mode": {
        "version": 3,
        "name": "ipython"
      },
      "pygments_lexer": "ipython3",
      "file_extension": ".py",
      "version": "3.5.6",
      "mimetype": "text/x-python",
      "name": "python"
    }
  },
  "nbformat_minor": 0
}