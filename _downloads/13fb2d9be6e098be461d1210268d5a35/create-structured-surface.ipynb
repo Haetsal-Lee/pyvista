{
  "nbformat_minor": 0,
  "metadata": {
    "kernelspec": {
      "language": "python",
      "name": "python3",
      "display_name": "Python 3"
    },
    "language_info": {
      "name": "python",
      "version": "3.5.6",
      "mimetype": "text/x-python",
      "codemirror_mode": {
        "name": "ipython",
        "version": 3
      },
      "nbconvert_exporter": "python",
      "pygments_lexer": "ipython3",
      "file_extension": ".py"
    }
  },
  "nbformat": 4,
  "cells": [
    {
      "outputs": [],
      "execution_count": null,
      "metadata": {
        "collapsed": false
      },
      "cell_type": "code",
      "source": [
        "%matplotlib inline"
      ]
    },
    {
      "metadata": {},
      "cell_type": "markdown",
      "metadata": {},
      "source": [
        "\n\nCreating a Structured Surface\n~~~~~~~~~~~~~~~~~~~~~~~~~~~~~\n\nCreate a StructuredGrid surface from NumPy arrays\n\n"
      ]
    },
    {
      "outputs": [],
      "execution_count": null,
      "metadata": {
        "collapsed": false
      },
      "cell_type": "code",
      "source": [
        "# sphinx_gallery_thumbnail_number = 2\nimport vtki\nimport numpy as np"
      ]
    },
    {
      "metadata": {},
      "cell_type": "markdown",
      "metadata": {},
      "source": [
        "Create a simple meshgrid using NumPy\n\n"
      ]
    },
    {
      "outputs": [],
      "execution_count": null,
      "metadata": {
        "collapsed": false
      },
      "cell_type": "code",
      "source": [
        "# Make data\nx = np.arange(-10, 10, 0.25)\ny = np.arange(-10, 10, 0.25)\nx, y = np.meshgrid(x, y)\nr = np.sqrt(x**2 + y**2)\nz = np.sin(r)"
      ]
    },
    {
      "metadata": {},
      "cell_type": "markdown",
      "metadata": {},
      "source": [
        "Now pass the NumPy meshgrid to ``vtki``\n\n"
      ]
    },
    {
      "outputs": [],
      "execution_count": null,
      "metadata": {
        "collapsed": false
      },
      "cell_type": "code",
      "source": [
        "# Create and plot structured grid\ngrid = vtki.StructuredGrid(x, y, z)\ngrid.plot()"
      ]
    },
    {
      "outputs": [],
      "execution_count": null,
      "metadata": {
        "collapsed": false
      },
      "cell_type": "code",
      "source": [
        "# Plot mean curvature as well\ngrid.plot_curvature(clim=[-1, 1])"
      ]
    },
    {
      "metadata": {},
      "cell_type": "markdown",
      "metadata": {},
      "source": [
        "Generating a structured grid is a one liner in this module, and the points from\nthe resulting surface can be accessed as a NumPy array:\n\n"
      ]
    },
    {
      "outputs": [],
      "execution_count": null,
      "metadata": {
        "collapsed": false
      },
      "cell_type": "code",
      "source": [
        "print(grid.points)"
      ]
    }
  ]
}