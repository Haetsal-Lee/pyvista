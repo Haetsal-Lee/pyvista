{
  "nbformat_minor": 0,
  "metadata": {
    "kernelspec": {
      "language": "python",
      "name": "python3",
      "display_name": "Python 3"
    },
    "language_info": {
      "name": "python",
      "version": "3.5.6",
      "mimetype": "text/x-python",
      "codemirror_mode": {
        "name": "ipython",
        "version": 3
      },
      "nbconvert_exporter": "python",
      "pygments_lexer": "ipython3",
      "file_extension": ".py"
    }
  },
  "nbformat": 4,
  "cells": [
    {
      "outputs": [],
      "execution_count": null,
      "metadata": {
        "collapsed": false
      },
      "cell_type": "code",
      "source": [
        "%matplotlib inline"
      ]
    },
    {
      "metadata": {},
      "cell_type": "markdown",
      "source": [
        "\n\nApplying Textures\n~~~~~~~~~~~~~~~~~\n\nPlot a mesh with an image projected onto it as a texture.\n\n"
      ]
    },
    {
      "outputs": [],
      "execution_count": null,
      "metadata": {
        "collapsed": false
      },
      "cell_type": "code",
      "source": [
        "import vtki\nfrom vtki import examples\nimport numpy as np\nfrom matplotlib.cm import get_cmap"
      ]
    },
    {
      "metadata": {},
      "cell_type": "markdown",
      "source": [
        "Texture mapping is easily implemented using ``vtki``. Many of the geometric\nobjects come preloaded with texture coordinates, so quickly creating a surface\nand displaying an image is simply:\n\n"
      ]
    },
    {
      "outputs": [],
      "execution_count": null,
      "metadata": {
        "collapsed": false
      },
      "cell_type": "code",
      "source": [
        "# load a sample texture\ntex = examples.download_masonry_texture()\n\n# create a surface to host this texture\nsurf = vtki.Cylinder()\n\nsurf.plot(texture=tex)"
      ]
    },
    {
      "metadata": {},
      "cell_type": "markdown",
      "source": [
        "But what if your dataset doesn't have texture coordinates? Then you can\nharness the :func:`vtki.DataSetFilters.texture_map_to_plane` filter to\nproperly map an image to a dataset's surface.\nFor example, let's map that same image of bricks to a curvey surface:\n\n"
      ]
    },
    {
      "outputs": [],
      "execution_count": null,
      "metadata": {
        "collapsed": false
      },
      "cell_type": "code",
      "source": [
        "# create a structured surface\nx = np.arange(-10, 10, 0.25)\ny = np.arange(-10, 10, 0.25)\nx, y = np.meshgrid(x, y)\nr = np.sqrt(x**2 + y**2)\nz = np.sin(r)\ncurvsurf = vtki.StructuredGrid(x, y, z)\n\n# Map the curved surface to a plane - use best fitting plane\ncurvsurf.texture_map_to_plane(inplace=True)\n\ncurvsurf.plot(texture=tex)"
      ]
    },
    {
      "metadata": {},
      "cell_type": "markdown",
      "source": [
        "Note that this process can be completed with any image texture!\n\n"
      ]
    },
    {
      "outputs": [],
      "execution_count": null,
      "metadata": {
        "collapsed": false
      },
      "cell_type": "code",
      "source": [
        "# use the puppy image\ntex = examples.download_puppy_texture()\ncurvsurf.plot(texture=tex)"
      ]
    },
    {
      "metadata": {},
      "cell_type": "markdown",
      "source": [
        "Textures from Files\n+++++++++++++++++++\n\nWhat about loading your own texture from an image? This is often most easily\ndone using the :func:`vtki.read_texture` function - simply pass an image\nfile's path, and this function with handle making a ``vtkTexture`` for you to\nuse.\n\n"
      ]
    },
    {
      "outputs": [],
      "execution_count": null,
      "metadata": {
        "collapsed": false
      },
      "cell_type": "code",
      "source": [
        "image_file = examples.mapfile\ntex = vtki.read_texture(image_file)\ncurvsurf.plot(texture=tex)"
      ]
    },
    {
      "metadata": {},
      "cell_type": "markdown",
      "source": [
        "NumPy Arrays as Textures\n++++++++++++++++++++++++\n\nWan't to use a programmaticaly built image? :class:`vtki.UniformGrid` objects\ncan be converted to textures using :func:`vtki.image_to_texture` and 3D\nNumPy (X by Y by RGB) arrays can be converted to textures using\n:func:`vtki.numpy_to_texture`.\n\n"
      ]
    },
    {
      "outputs": [],
      "execution_count": null,
      "metadata": {
        "collapsed": false
      },
      "cell_type": "code",
      "source": [
        "# create an image using Numpy,\nxx, yy = np.meshgrid(np.linspace(-200,200,20), np.linspace(-200,200,20))\nA, b = 500, 100\nzz = A*np.exp(-0.5*((xx/b)**2. + (yy/b)**2.))\n\n# Creating a custom RGB image\ncmap = get_cmap('nipy_spectral')\nnorm = lambda x: (x - np.nanmin(x)) / (np.nanmax(x) - np.nanmin(x))\nhue = norm(zz.ravel())\ncolors = (cmap(hue)[:, 0:3] * 255.).astype(np.uint8)\nimage = colors.reshape((xx.shape[0], xx.shape[1], 3), order='F')\n\n# Convert 3D numpy array to texture\ntex = vtki.numpy_to_texture(image)\n\n# Render it!\ncurvsurf.plot(texture=tex)"
      ]
    },
    {
      "metadata": {},
      "cell_type": "markdown",
      "source": [
        "Repeating Textures\n++++++++++++++++++\n\nWhat if you have a single texture that you'd like to repeat across a mesh?\nSimply define the texture coordinates for all nodes explicitly.\n\n<div class=\"alert alert-danger\"><h4>Warning</h4><p>This example is not correct\n\n   Would you like to help us make this example better? Please consider opening a pull request</p></div>\n\nHere we create the texture coordinates to fill up the grid with several\nmappings of a single texture:\n\n"
      ]
    },
    {
      "outputs": [],
      "execution_count": null,
      "metadata": {
        "collapsed": false
      },
      "cell_type": "code",
      "source": [
        "axial_num_puppies = 4\ndx = curvsurf.dimensions[0] // axial_num_puppies\ndy = curvsurf.dimensions[1] // axial_num_puppies\n\nxc = np.full((axial_num_puppies, dx), np.linspace(0, 1, dx))\nyc = np.full((axial_num_puppies, dy), np.linspace(0, 1, dy))\n\nxxc, yyc = np.meshgrid(xc, yc)\npuppy_coords = np.c_[yyc.ravel(), xxc.ravel()]"
      ]
    },
    {
      "metadata": {},
      "cell_type": "markdown",
      "source": [
        "Then we must associate those texture coordinates with the mesh through the\n:attr:`vtki.Common.t_coords` property.\n\n"
      ]
    },
    {
      "outputs": [],
      "execution_count": null,
      "metadata": {
        "collapsed": false
      },
      "cell_type": "code",
      "source": [
        "curvsurf.t_coords = puppy_coords"
      ]
    },
    {
      "metadata": {},
      "cell_type": "markdown",
      "source": [
        "Now display all the puppies!\n\n"
      ]
    },
    {
      "outputs": [],
      "execution_count": null,
      "metadata": {
        "collapsed": false
      },
      "cell_type": "code",
      "source": [
        "# use the puppy image\ntex = examples.download_puppy_texture()\ncurvsurf.plot(texture=tex, cpos='yx')"
      ]
    }
  ]
}