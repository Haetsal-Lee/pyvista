{
  "cells": [
    {
      "cell_type": "code",
      "execution_count": null,
      "metadata": {
        "collapsed": false
      },
      "outputs": [],
      "source": [
        "%matplotlib inline"
      ]
    },
    {
      "cell_type": "markdown",
      "metadata": {},
      "source": [
        "\nApplying Textures\n~~~~~~~~~~~~~~~~~\n\nPlot a mesh with an image projected onto it as a texture.\n"
      ]
    },
    {
      "cell_type": "markdown",
      "metadata": {},
      "source": [
        "Texture mapping is easily implemented using ``vtki``. Many of the geometric\nobjects come preloaded with texture coordinates, so quickly creating a surface\nand displaying an image is simply:\n\n"
      ]
    },
    {
      "cell_type": "code",
      "execution_count": null,
      "metadata": {
        "collapsed": false
      },
      "outputs": [],
      "source": [
        "import vtki\nfrom vtki import examples\nimport numpy as np\n\n# load a sample texture\ntex = examples.download_masonry_texture()\n\n# create a surface to host this texture\nsurf = vtki.Cylinder()\n\nsurf.plot(texture=tex)"
      ]
    },
    {
      "cell_type": "markdown",
      "metadata": {},
      "source": [
        "But what if your dataset doesn't have texture coordinates? Then you can\nharness the :func:`vtki.DataSetFilters.texture_map_to_plane` filter to\nproperly map an image to a dataset's surface.\nFor example, let's map that same image of bricks to a curvey surface:\n\n"
      ]
    },
    {
      "cell_type": "code",
      "execution_count": null,
      "metadata": {
        "collapsed": false
      },
      "outputs": [],
      "source": [
        "# create a structured surface\nx = np.arange(-10, 10, 0.25)\ny = np.arange(-10, 10, 0.25)\nx, y = np.meshgrid(x, y)\nr = np.sqrt(x**2 + y**2)\nz = np.sin(r)\ncurvsurf = vtki.StructuredGrid(x, y, z)\n\n# Map the curved surface to a plane - use best fitting plane\ncurvsurf.texture_map_to_plane(inplace=True)\n\ncurvsurf.plot(texture=tex)"
      ]
    },
    {
      "cell_type": "markdown",
      "metadata": {},
      "source": [
        "Note that this process can be completed with any image texture!\n\n"
      ]
    },
    {
      "cell_type": "code",
      "execution_count": null,
      "metadata": {
        "collapsed": false
      },
      "outputs": [],
      "source": [
        "# use the earth map image\ntex = examples.load_globe_texture()\ncurvsurf.plot(texture=tex)"
      ]
    },
    {
      "cell_type": "markdown",
      "metadata": {},
      "source": [
        "What about loading your own texture from an image? This is often most easily\ndone using the :func:`vtki.read_texture` function - simply pass an image\nfile's path, and this function with handle making a ``vtkTexture`` for you to\nuse.\n\n"
      ]
    },
    {
      "cell_type": "code",
      "execution_count": null,
      "metadata": {
        "collapsed": false
      },
      "outputs": [],
      "source": [
        "image_file = examples.mapfile\ntex = vtki.read_texture(image_file)\ncurvsurf.plot(texture=tex)"
      ]
    },
    {
      "cell_type": "markdown",
      "metadata": {},
      "source": [
        "Wan't to use a programmaticaly built image? :class:`vtki.UniformGrid` objects\ncan be converted to textures using :func:`vtki.image_to_texture` and 3D\nNumPy (X by Y by RGB) arrays can be converted to textures using\n:func:`vtki.numpy_to_texture`.\n\n"
      ]
    },
    {
      "cell_type": "code",
      "execution_count": null,
      "metadata": {
        "collapsed": false
      },
      "outputs": [],
      "source": [
        "# create an image using Numpy,\nxx, yy = np.meshgrid(np.linspace(-200,200,20), np.linspace(-200,200,20))\nA, b = 500, 100\nzz = A*np.exp(-0.5*((xx/b)**2. + (yy/b)**2.))\n\n# Creating a custom RGB image\nfrom matplotlib.cm import get_cmap\ncmap = get_cmap('nipy_spectral')\nnorm = lambda x: (x - np.nanmin(x)) / (np.nanmax(x) - np.nanmin(x))\nhue = norm(zz.ravel())\ncolors = (cmap(hue)[:, 0:3] * 255.).astype(np.uint8)\nimage = colors.reshape((xx.shape[0], xx.shape[1], 3), order='F')\n\n# Convert 3D numpy array to texture\ntex = vtki.numpy_to_texture(image)\n\n# Render it!\ncurvsurf.plot(texture=tex)"
      ]
    }
  ],
  "metadata": {
    "kernelspec": {
      "display_name": "Python 3",
      "language": "python",
      "name": "python3"
    },
    "language_info": {
      "codemirror_mode": {
        "name": "ipython",
        "version": 3
      },
      "file_extension": ".py",
      "mimetype": "text/x-python",
      "name": "python",
      "nbconvert_exporter": "python",
      "pygments_lexer": "ipython3",
      "version": "3.7.1"
    }
  },
  "nbformat": 4,
  "nbformat_minor": 0
}