{
  "cells": [
    {
      "cell_type": "code",
      "execution_count": null,
      "outputs": [],
      "metadata": {
        "collapsed": false
      },
      "source": [
        "%matplotlib inline"
      ]
    },
    {
      "cell_type": "markdown",
      "source": [
        "\n\nGeometric Objects\n~~~~~~~~~~~~~~~~~\n\nThe \"Hello, world!\" of VTK\n\n"
      ],
      "metadata": {}
    },
    {
      "cell_type": "code",
      "execution_count": null,
      "outputs": [],
      "metadata": {
        "collapsed": false
      },
      "source": [
        "# sphinx_gallery_thumbnail_number = 3\nimport vtki"
      ]
    },
    {
      "cell_type": "markdown",
      "source": [
        "This runs through several of the available geomoetric objects available in VTK\nwhich ``vtki`` provides simple conveinance methods for generating.\n\n"
      ],
      "metadata": {}
    },
    {
      "cell_type": "code",
      "execution_count": null,
      "outputs": [],
      "metadata": {
        "collapsed": false
      },
      "source": [
        "# Let's run through a few geometric objects!\n\nsphere = vtki.Sphere()\nsphere.plot(show_edges=True, color='tan')"
      ]
    },
    {
      "cell_type": "code",
      "execution_count": null,
      "outputs": [],
      "metadata": {
        "collapsed": false
      },
      "source": [
        "cyl = vtki.Cylinder()\ncyl.plot(show_edges=True, color='tan')"
      ]
    },
    {
      "cell_type": "code",
      "execution_count": null,
      "outputs": [],
      "metadata": {
        "collapsed": false
      },
      "source": [
        "arrow = vtki.Arrow()\narrow.plot(show_edges=True)"
      ]
    },
    {
      "cell_type": "code",
      "execution_count": null,
      "outputs": [],
      "metadata": {
        "collapsed": false
      },
      "source": [
        "box = vtki.Box()\nbox.plot(show_edges=True, color='tan')"
      ]
    },
    {
      "cell_type": "code",
      "execution_count": null,
      "outputs": [],
      "metadata": {
        "collapsed": false
      },
      "source": [
        "cone = vtki.Cone()\ncone.plot(show_edges=True)"
      ]
    },
    {
      "cell_type": "code",
      "execution_count": null,
      "outputs": [],
      "metadata": {
        "collapsed": false
      },
      "source": [
        "poly = vtki.Polygon()\npoly.plot(show_edges=True)"
      ]
    },
    {
      "cell_type": "code",
      "execution_count": null,
      "outputs": [],
      "metadata": {
        "collapsed": false
      },
      "source": [
        "disc = vtki.Disc()\ndisc.plot(show_edges=True)"
      ]
    }
  ],
  "nbformat": 4,
  "metadata": {
    "kernelspec": {
      "language": "python",
      "display_name": "Python 3",
      "name": "python3"
    },
    "language_info": {
      "nbconvert_exporter": "python",
      "codemirror_mode": {
        "version": 3,
        "name": "ipython"
      },
      "pygments_lexer": "ipython3",
      "file_extension": ".py",
      "version": "3.5.6",
      "mimetype": "text/x-python",
      "name": "python"
    }
  },
  "nbformat_minor": 0
}