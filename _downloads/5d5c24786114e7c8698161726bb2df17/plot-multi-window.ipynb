{
  "cells": [
    {
      "cell_type": "code",
      "execution_count": null,
      "outputs": [],
      "metadata": {
        "collapsed": false
      },
      "source": [
        "%matplotlib inline"
      ]
    },
    {
      "cell_type": "markdown",
      "source": [
        "\nMulti-Window Plot\n~~~~~~~~~~~~~~~~~\n\n\nSubplotting: having multiple scenes in a signle window\n\n"
      ],
      "metadata": {}
    },
    {
      "cell_type": "code",
      "execution_count": null,
      "outputs": [],
      "metadata": {
        "collapsed": false
      },
      "source": [
        "import vtki\nfrom vtki import examples"
      ]
    },
    {
      "cell_type": "markdown",
      "source": [
        "This example shows how to create a multi-window plotter by specifying the\n``shape`` parameter.  The window generated is a two by two window by setting\n``shape=(2, 2)``. Use the :func:`vtki.BasePlotter.subplot` function to select\nthe subplot you wish to be the active subplot.\n\n"
      ],
      "metadata": {}
    },
    {
      "cell_type": "code",
      "execution_count": null,
      "outputs": [],
      "metadata": {
        "collapsed": false
      },
      "source": [
        "plotter = vtki.Plotter(shape=(2, 2))\n\nplotter.subplot(0,0)\nplotter.add_text('Render Window 0', position=None, font_size=30)\nplotter.add_mesh(examples.load_globe())\n\nplotter.subplot(0, 1)\nplotter.add_text('Render Window 1', font_size=30)\nplotter.add_mesh(vtki.Cube(), show_edges=True, color='tan')\n\nplotter.subplot(1, 0)\nplotter.add_text('Render Window 2', font_size=30)\nsphere = vtki.Sphere()\nplotter.add_mesh(sphere, scalars=sphere.points[:, 2])\nplotter.add_scalar_bar('Z')\n# plotter.add_axes()\nplotter.add_axes(interactive=True)\n\nplotter.subplot(1, 1)\nplotter.add_text('Render Window 3', font_size=30)\nplotter.add_mesh(vtki.Cone(), color='g', show_edges=True)\nplotter.show_bounds(all_edges=True)\n\n# Display the window\nplotter.show()"
      ]
    },
    {
      "cell_type": "code",
      "execution_count": null,
      "outputs": [],
      "metadata": {
        "collapsed": false
      },
      "source": [
        "plotter = vtki.Plotter(shape=(1, 2))\n\n# Note that the (0, 0) location is active by default\n# load and plot an airplane on the left half of the screen\nplotter.add_text('Airplane Example\\n', font_size=30)\nplotter.add_mesh(examples.load_airplane(), show_edges=False)\n\n# load and plot the uniform data example on the right-hand side\nplotter.subplot(0, 1)\nplotter.add_text('Uniform Data Example\\n', font_size=30)\nplotter.add_mesh(examples.load_uniform(), show_edges=True)\n\n# Display the window\nplotter.show()"
      ]
    }
  ],
  "nbformat": 4,
  "metadata": {
    "kernelspec": {
      "language": "python",
      "display_name": "Python 3",
      "name": "python3"
    },
    "language_info": {
      "nbconvert_exporter": "python",
      "codemirror_mode": {
        "version": 3,
        "name": "ipython"
      },
      "pygments_lexer": "ipython3",
      "file_extension": ".py",
      "version": "3.5.6",
      "mimetype": "text/x-python",
      "name": "python"
    }
  },
  "nbformat_minor": 0
}