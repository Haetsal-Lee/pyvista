{
  "nbformat_minor": 0,
  "metadata": {
    "kernelspec": {
      "language": "python",
      "name": "python3",
      "display_name": "Python 3"
    },
    "language_info": {
      "name": "python",
      "version": "3.5.6",
      "mimetype": "text/x-python",
      "codemirror_mode": {
        "name": "ipython",
        "version": 3
      },
      "nbconvert_exporter": "python",
      "pygments_lexer": "ipython3",
      "file_extension": ".py"
    }
  },
  "nbformat": 4,
  "cells": [
    {
      "outputs": [],
      "execution_count": null,
      "metadata": {
        "collapsed": false
      },
      "cell_type": "code",
      "source": [
        "%matplotlib inline"
      ]
    },
    {
      "metadata": {},
      "cell_type": "markdown",
      "source": [
        "\nMulti-Window Plot\n~~~~~~~~~~~~~~~~~\n\n\nSubplotting: having multiple scenes in a signle window\n\n"
      ]
    },
    {
      "outputs": [],
      "execution_count": null,
      "metadata": {
        "collapsed": false
      },
      "cell_type": "code",
      "source": [
        "import vtki\nfrom vtki import examples"
      ]
    },
    {
      "metadata": {},
      "cell_type": "markdown",
      "source": [
        "This example shows how to create a multi-window plotter by specifying the\n``shape`` parameter.  The window generated is a two by two window by setting\n``shape=(2, 2)``. Use the :func:`vtki.BasePlotter.subplot` function to select\nthe subplot you wish to be the active subplot.\n\n"
      ]
    },
    {
      "outputs": [],
      "execution_count": null,
      "metadata": {
        "collapsed": false
      },
      "cell_type": "code",
      "source": [
        "plotter = vtki.Plotter(shape=(2, 2))\n\nplotter.subplot(0,0)\nplotter.add_text('Render Window 0', position=None, font_size=30)\nplotter.add_mesh(examples.load_globe())\n\nplotter.subplot(0, 1)\nplotter.add_text('Render Window 1', font_size=30)\nplotter.add_mesh(vtki.Cube(), show_edges=True, color='tan')\n\nplotter.subplot(1, 0)\nplotter.add_text('Render Window 2', font_size=30)\nsphere = vtki.Sphere()\nplotter.add_mesh(sphere, scalars=sphere.points[:, 2])\nplotter.add_scalar_bar('Z')\n# plotter.add_axes()\nplotter.add_axes(interactive=True)\n\nplotter.subplot(1, 1)\nplotter.add_text('Render Window 3', font_size=30)\nplotter.add_mesh(vtki.Cone(), color='g', show_edges=True)\nplotter.show_bounds(all_edges=True)\n\n# Display the window\nplotter.show()"
      ]
    },
    {
      "outputs": [],
      "execution_count": null,
      "metadata": {
        "collapsed": false
      },
      "cell_type": "code",
      "source": [
        "plotter = vtki.Plotter(shape=(1, 2))\n\n# Note that the (0, 0) location is active by default\n# load and plot an airplane on the left half of the screen\nplotter.add_text('Airplane Example\\n', font_size=30)\nplotter.add_mesh(examples.load_airplane(), show_edges=False)\n\n# load and plot the uniform data example on the right-hand side\nplotter.subplot(0, 1)\nplotter.add_text('Uniform Data Example\\n', font_size=30)\nplotter.add_mesh(examples.load_uniform(), show_edges=True)\n\n# Display the window\nplotter.show()"
      ]
    }
  ]
}