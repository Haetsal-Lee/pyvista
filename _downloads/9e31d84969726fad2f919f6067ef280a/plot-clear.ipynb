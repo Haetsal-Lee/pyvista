{
  "nbformat_minor": 0,
  "metadata": {
    "kernelspec": {
      "language": "python",
      "name": "python3",
      "display_name": "Python 3"
    },
    "language_info": {
      "name": "python",
      "version": "3.5.6",
      "mimetype": "text/x-python",
      "codemirror_mode": {
        "name": "ipython",
        "version": 3
      },
      "nbconvert_exporter": "python",
      "pygments_lexer": "ipython3",
      "file_extension": ".py"
    }
  },
  "nbformat": 4,
  "cells": [
    {
      "outputs": [],
      "execution_count": null,
      "metadata": {
        "collapsed": false
      },
      "cell_type": "code",
      "source": [
        "%matplotlib inline"
      ]
    },
    {
      "metadata": {},
      "cell_type": "markdown",
      "source": [
        "\nClearing a Mesh or the Entire Plot\n~~~~~~~~~~~~~~~~~~~~~~~~~~~~~~~~~~\n\nThis example demonstrates how to remove elements from a scene.\n\n\n"
      ]
    },
    {
      "outputs": [],
      "execution_count": null,
      "metadata": {
        "collapsed": false
      },
      "cell_type": "code",
      "source": [
        "# sphinx_gallery_thumbnail_number = 3\nimport vtki"
      ]
    },
    {
      "outputs": [],
      "execution_count": null,
      "metadata": {
        "collapsed": false
      },
      "cell_type": "code",
      "source": [
        "plotter = vtki.Plotter()\nactor = plotter.add_mesh(vtki.Sphere())\nplotter.remove_actor(actor)\nplotter.show()"
      ]
    },
    {
      "metadata": {},
      "cell_type": "markdown",
      "source": [
        "Clearing the entire plotting window:\n\n"
      ]
    },
    {
      "outputs": [],
      "execution_count": null,
      "metadata": {
        "collapsed": false
      },
      "cell_type": "code",
      "source": [
        "plotter = vtki.Plotter()\nplotter.add_mesh(vtki.Sphere())\nplotter.add_mesh(vtki.Plane())\nplotter.clear()  # clears all actors\nplotter.show()"
      ]
    },
    {
      "metadata": {},
      "cell_type": "markdown",
      "source": [
        "Or you can give any actor a ``name`` when adding it and if an actor is added\nwith that same name at a later time, it will replace the previous actor:\n\n"
      ]
    },
    {
      "outputs": [],
      "execution_count": null,
      "metadata": {
        "collapsed": false
      },
      "cell_type": "code",
      "source": [
        "plotter = vtki.Plotter()\nplotter.add_mesh(vtki.Sphere(), name='mydata')\nplotter.add_mesh(vtki.Plane(), name='mydata')\n# Only the Plane is shown!\nplotter.show()"
      ]
    }
  ]
}