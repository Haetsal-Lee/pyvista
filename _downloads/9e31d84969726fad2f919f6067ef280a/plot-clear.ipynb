{
  "cells": [
    {
      "cell_type": "code",
      "execution_count": null,
      "outputs": [],
      "metadata": {
        "collapsed": false
      },
      "source": [
        "%matplotlib inline"
      ]
    },
    {
      "cell_type": "markdown",
      "source": [
        "\nClearing a Mesh or the Entire Plot\n~~~~~~~~~~~~~~~~~~~~~~~~~~~~~~~~~~\n\nThis example demonstrates how to remove elements from a scene.\n\n\n"
      ],
      "metadata": {}
    },
    {
      "cell_type": "code",
      "execution_count": null,
      "outputs": [],
      "metadata": {
        "collapsed": false
      },
      "source": [
        "# sphinx_gallery_thumbnail_number = 3\nimport vtki"
      ]
    },
    {
      "cell_type": "code",
      "execution_count": null,
      "outputs": [],
      "metadata": {
        "collapsed": false
      },
      "source": [
        "plotter = vtki.Plotter()\nactor = plotter.add_mesh(vtki.Sphere())\nplotter.remove_actor(actor)\nplotter.show()"
      ]
    },
    {
      "cell_type": "markdown",
      "source": [
        "Clearing the entire plotting window:\n\n"
      ],
      "metadata": {}
    },
    {
      "cell_type": "code",
      "execution_count": null,
      "outputs": [],
      "metadata": {
        "collapsed": false
      },
      "source": [
        "plotter = vtki.Plotter()\nplotter.add_mesh(vtki.Sphere())\nplotter.add_mesh(vtki.Plane())\nplotter.clear()  # clears all actors\nplotter.show()"
      ]
    },
    {
      "cell_type": "markdown",
      "source": [
        "Or you can give any actor a ``name`` when adding it and if an actor is added\nwith that same name at a later time, it will replace the previous actor:\n\n"
      ],
      "metadata": {}
    },
    {
      "cell_type": "code",
      "execution_count": null,
      "outputs": [],
      "metadata": {
        "collapsed": false
      },
      "source": [
        "plotter = vtki.Plotter()\nplotter.add_mesh(vtki.Sphere(), name='mydata')\nplotter.add_mesh(vtki.Plane(), name='mydata')\n# Only the Plane is shown!\nplotter.show()"
      ]
    }
  ],
  "nbformat": 4,
  "metadata": {
    "kernelspec": {
      "language": "python",
      "display_name": "Python 3",
      "name": "python3"
    },
    "language_info": {
      "nbconvert_exporter": "python",
      "codemirror_mode": {
        "version": 3,
        "name": "ipython"
      },
      "pygments_lexer": "ipython3",
      "file_extension": ".py",
      "version": "3.5.6",
      "mimetype": "text/x-python",
      "name": "python"
    }
  },
  "nbformat_minor": 0
}