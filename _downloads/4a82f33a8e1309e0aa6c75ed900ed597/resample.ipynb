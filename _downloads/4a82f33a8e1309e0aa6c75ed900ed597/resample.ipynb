{
  "nbformat_minor": 0,
  "metadata": {
    "kernelspec": {
      "language": "python",
      "name": "python3",
      "display_name": "Python 3"
    },
    "language_info": {
      "name": "python",
      "version": "3.5.6",
      "mimetype": "text/x-python",
      "codemirror_mode": {
        "name": "ipython",
        "version": 3
      },
      "nbconvert_exporter": "python",
      "pygments_lexer": "ipython3",
      "file_extension": ".py"
    }
  },
  "nbformat": 4,
  "cells": [
    {
      "outputs": [],
      "execution_count": null,
      "metadata": {
        "collapsed": false
      },
      "cell_type": "code",
      "source": [
        "%matplotlib inline"
      ]
    },
    {
      "metadata": {},
      "cell_type": "markdown",
      "metadata": {},
      "source": [
        "\nResampling Data Sets\n~~~~~~~~~~~~~~~~~~~~\n\nResample one mesh's point/cell arrays onto another meshes nodes.\n\n"
      ]
    },
    {
      "metadata": {},
      "cell_type": "markdown",
      "metadata": {},
      "source": [
        "This example will resample a volumetric mesh's  scalar data onto the surface\nof a sphere contained in that volume.\n\n"
      ]
    },
    {
      "outputs": [],
      "execution_count": null,
      "metadata": {
        "collapsed": false
      },
      "cell_type": "code",
      "source": [
        "# sphinx_gallery_thumbnail_number = 1\nimport vtki\nfrom vtki import examples\nimport numpy as np"
      ]
    },
    {
      "metadata": {},
      "cell_type": "markdown",
      "metadata": {},
      "source": [
        "Querry a grids points onto a sphere\n\n"
      ]
    },
    {
      "outputs": [],
      "execution_count": null,
      "metadata": {
        "collapsed": false
      },
      "cell_type": "code",
      "source": [
        "mesh = vtki.Sphere(center=(4.5,4.5,4.5), radius=4.5)\ndata_to_probe = examples.load_uniform()"
      ]
    },
    {
      "metadata": {},
      "cell_type": "markdown",
      "metadata": {},
      "source": [
        "Plot the two datasets\n\n"
      ]
    },
    {
      "outputs": [],
      "execution_count": null,
      "metadata": {
        "collapsed": false
      },
      "cell_type": "code",
      "source": [
        "p = vtki.Plotter()\np.add_mesh(mesh, color=True)\np.add_mesh(data_to_probe, opacity=0.5)\np.show()"
      ]
    },
    {
      "metadata": {},
      "cell_type": "markdown",
      "metadata": {},
      "source": [
        "Run the algorithm and plot the result\n\n"
      ]
    },
    {
      "outputs": [],
      "execution_count": null,
      "metadata": {
        "collapsed": false
      },
      "cell_type": "code",
      "source": [
        "result = mesh.sample(data_to_probe)\n\n# Plot result\nname = 'Spatial Point Data'\nresult.plot(scalars=name, clim=data_to_probe.get_data_range(name))"
      ]
    }
  ],
  "metadata": {
    "kernelspec": {
      "display_name": "Python 3",
      "language": "python",
      "name": "python3"
    },
    "language_info": {
      "codemirror_mode": {
        "name": "ipython",
        "version": 3
      },
      "file_extension": ".py",
      "mimetype": "text/x-python",
      "name": "python",
      "nbconvert_exporter": "python",
      "pygments_lexer": "ipython3",
      "version": "3.6.7"
    }
  },
  "nbformat": 4,
  "nbformat_minor": 0
}