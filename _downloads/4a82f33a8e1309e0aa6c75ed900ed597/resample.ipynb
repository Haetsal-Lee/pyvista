{
  "cells": [
    {
      "cell_type": "code",
      "execution_count": null,
      "outputs": [],
      "metadata": {
        "collapsed": false
      },
      "source": [
        "%matplotlib inline"
      ]
    },
    {
      "cell_type": "markdown",
      "source": [
        "\nResampling Data Sets\n~~~~~~~~~~~~~~~~~~~~\n\nResample one mesh's point/cell arrays onto another meshes nodes.\n\n"
      ],
      "metadata": {}
    },
    {
      "cell_type": "markdown",
      "source": [
        "This example will resample a volumetric mesh's  scalar data onto the surface\nof a sphere contained in that volume.\n\n"
      ],
      "metadata": {}
    },
    {
      "cell_type": "code",
      "execution_count": null,
      "outputs": [],
      "metadata": {
        "collapsed": false
      },
      "source": [
        "# sphinx_gallery_thumbnail_number = 1\nimport vtki\nfrom vtki import examples\nimport numpy as np"
      ]
    },
    {
      "cell_type": "markdown",
      "source": [
        "Querry a grids points onto a sphere\n\n"
      ],
      "metadata": {}
    },
    {
      "cell_type": "code",
      "execution_count": null,
      "outputs": [],
      "metadata": {
        "collapsed": false
      },
      "source": [
        "mesh = vtki.Sphere(center=(4.5,4.5,4.5), radius=4.5)\ndata_to_probe = examples.load_uniform()"
      ]
    },
    {
      "cell_type": "markdown",
      "source": [
        "Plot the two datasets\n\n"
      ],
      "metadata": {}
    },
    {
      "cell_type": "code",
      "execution_count": null,
      "outputs": [],
      "metadata": {
        "collapsed": false
      },
      "source": [
        "p = vtki.Plotter()\np.add_mesh(mesh, color=True)\np.add_mesh(data_to_probe, opacity=0.5)\np.show()"
      ]
    },
    {
      "cell_type": "markdown",
      "source": [
        "Run the algorithm and plot the result\n\n"
      ],
      "metadata": {}
    },
    {
      "cell_type": "code",
      "execution_count": null,
      "outputs": [],
      "metadata": {
        "collapsed": false
      },
      "source": [
        "result = mesh.sample(data_to_probe)\n\n# Plot result\nname = 'Spatial Point Data'\nresult.plot(scalars=name, clim=data_to_probe.get_data_range(name))"
      ]
    }
  ],
  "nbformat": 4,
  "metadata": {
    "kernelspec": {
      "language": "python",
      "display_name": "Python 3",
      "name": "python3"
    },
    "language_info": {
      "nbconvert_exporter": "python",
      "codemirror_mode": {
        "version": 3,
        "name": "ipython"
      },
      "pygments_lexer": "ipython3",
      "file_extension": ".py",
      "version": "3.5.6",
      "mimetype": "text/x-python",
      "name": "python"
    }
  },
  "nbformat_minor": 0
}