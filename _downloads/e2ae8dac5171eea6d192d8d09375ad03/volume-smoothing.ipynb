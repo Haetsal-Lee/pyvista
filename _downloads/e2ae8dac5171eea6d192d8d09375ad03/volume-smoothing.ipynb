{
  "cells": [
    {
      "cell_type": "code",
      "execution_count": null,
      "outputs": [],
      "metadata": {
        "collapsed": false
      },
      "source": [
        "%matplotlib inline"
      ]
    },
    {
      "cell_type": "markdown",
      "source": [
        "\nVolume Smoothing\n~~~~~~~~~~~~~~~~\n\nSmoothing rough edges of a volumetric surface\n\n"
      ],
      "metadata": {}
    },
    {
      "cell_type": "code",
      "execution_count": null,
      "outputs": [],
      "metadata": {
        "collapsed": false
      },
      "source": [
        "# sphinx_gallery_thumbnail_number = 4\nimport vtki\nfrom vtki import examples"
      ]
    },
    {
      "cell_type": "markdown",
      "source": [
        "Suppose you extract a volumetric subset of a dataset that has roughly defined\nedges. Perhaps you'd like a smooth representation of that model region. This\ncan be achieved by extracting the bounding surface of the volume and applying\na :func:`vtki.PolyData.smooth` filter.\n\nThe below code snippet loads a sample roughly edged volumetric dataset:\n\n"
      ],
      "metadata": {}
    },
    {
      "cell_type": "code",
      "execution_count": null,
      "outputs": [],
      "metadata": {
        "collapsed": false
      },
      "source": [
        "# Vector to view rough edges\ncpos = [-2,5,3]\n\n# Load dataset\ndata = examples.load_uniform()\n# Extract a rugged volume\nvol = data.threshold_percent(30, invert=1)\nvol.plot(show_edges=True, cpos=cpos)"
      ]
    },
    {
      "cell_type": "markdown",
      "source": [
        "Extract the outer surface of the volume using the\n:func:`vtki.DataSetFilters.extract_geometry` filter and then apply the\nsmoothing filter:\n\n"
      ],
      "metadata": {}
    },
    {
      "cell_type": "code",
      "execution_count": null,
      "outputs": [],
      "metadata": {
        "collapsed": false
      },
      "source": [
        "# Get the out surface as PolyData\nsurf = vol.extract_geometry()\n# Smooth the surface\nsmooth = surf.smooth()\nsmooth.plot(show_edges=True, cpos=cpos)"
      ]
    },
    {
      "cell_type": "markdown",
      "source": [
        "Not smooth enough? Try increasing the number of iterations for the laplacian\nsmoothing algorithm:\n\n"
      ],
      "metadata": {}
    },
    {
      "cell_type": "code",
      "execution_count": null,
      "outputs": [],
      "metadata": {
        "collapsed": false
      },
      "source": [
        "# Smooth the surface even more\nsmooth = surf.smooth(n_iter=100)\nsmooth.plot(show_edges=True, cpos=cpos)"
      ]
    },
    {
      "cell_type": "markdown",
      "source": [
        "Still not smooth enough? Increase the number of iterations for the laplacian\nsmoothing algorithm to a crazy high value:\n\n"
      ],
      "metadata": {}
    },
    {
      "cell_type": "code",
      "execution_count": null,
      "outputs": [],
      "metadata": {
        "collapsed": false
      },
      "source": [
        "# Smooth the surface EVEN MORE\nsmooth = surf.smooth(n_iter=1000)\nsmooth.plot(show_edges=True, cpos=cpos)"
      ]
    }
  ],
  "nbformat": 4,
  "metadata": {
    "kernelspec": {
      "language": "python",
      "display_name": "Python 3",
      "name": "python3"
    },
    "language_info": {
      "nbconvert_exporter": "python",
      "codemirror_mode": {
        "version": 3,
        "name": "ipython"
      },
      "pygments_lexer": "ipython3",
      "file_extension": ".py",
      "version": "3.5.6",
      "mimetype": "text/x-python",
      "name": "python"
    }
  },
  "nbformat_minor": 0
}