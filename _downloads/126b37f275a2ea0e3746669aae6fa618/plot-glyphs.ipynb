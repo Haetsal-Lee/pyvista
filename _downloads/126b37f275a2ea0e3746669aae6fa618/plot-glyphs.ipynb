{
  "cells": [
    {
      "cell_type": "code",
      "execution_count": null,
      "outputs": [],
      "metadata": {
        "collapsed": false
      },
      "source": [
        "%matplotlib inline"
      ]
    },
    {
      "cell_type": "markdown",
      "source": [
        "\n\nPlotting Glyphs\n~~~~~~~~~~~~~~~\n\nUse vectors in a dataset to plot and orient glyphs/geometric objects.\n\n"
      ],
      "metadata": {}
    },
    {
      "cell_type": "code",
      "execution_count": null,
      "outputs": [],
      "metadata": {
        "collapsed": false
      },
      "source": [
        "# sphinx_gallery_thumbnail_number = 2\nimport vtki\nimport numpy as np"
      ]
    },
    {
      "cell_type": "markdown",
      "source": [
        "Glyphying can be done via the :func:`vtki.DataSetFilters.glyph` filter\n\n"
      ],
      "metadata": {}
    },
    {
      "cell_type": "code",
      "execution_count": null,
      "outputs": [],
      "metadata": {
        "collapsed": false
      },
      "source": [
        "# Make a grid:\nx, y, z = np.meshgrid(np.linspace(-5, 5, 20),\n                  np.linspace(-5, 5, 20),\n                  np.linspace(-5, 5, 5))\n\ngrid = vtki.StructuredGrid(x, y, z)\n\nvectors = np.sin(grid.points)**3\n\n\n# Compute a direction for the vector field\ngrid.point_arrays['mag'] = np.linalg.norm(vectors, axis=1)\ngrid.point_arrays['vec'] = vectors\n\n# Make a geometric obhect to use as the glyph\ngeom = vtki.Arrow() # This could be any dataset\n\n# Perform the glyph\nglyphs = grid.glyph(orient='vec', scale='mag', factor=0.8, geom=geom)\n\n# plot using the plotting class\np = vtki.Plotter()\np.add_mesh(glyphs)\np.show()"
      ]
    },
    {
      "cell_type": "markdown",
      "source": [
        "Another approach is to load the vectors directly to the grid object and then\naccess the :attr:`vtki.Common.arrows` property.\n\n"
      ],
      "metadata": {}
    },
    {
      "cell_type": "code",
      "execution_count": null,
      "outputs": [],
      "metadata": {
        "collapsed": false
      },
      "source": [
        "sphere = vtki.Sphere(radius=3.14)\n\n# make cool swirly pattern\nvectors = np.vstack((np.sin(sphere.points[:, 0]),\nnp.cos(sphere.points[:, 1]),\nnp.cos(sphere.points[:, 2]))).T\n\n# add and scale\nsphere.vectors = vectors*0.3\n\n# plot just the arrows\nsphere.arrows.plot()"
      ]
    },
    {
      "cell_type": "code",
      "execution_count": null,
      "outputs": [],
      "metadata": {
        "collapsed": false
      },
      "source": [
        "# plot the arrows and the sphere\np = vtki.Plotter()\np.add_mesh(sphere.arrows, lighting=False, stitle='Vector Magnitude')\np.add_mesh(sphere, color='grey', ambient=0.6, opacity=0.5, show_edges=False)\np.show()"
      ]
    }
  ],
  "nbformat": 4,
  "metadata": {
    "kernelspec": {
      "language": "python",
      "display_name": "Python 3",
      "name": "python3"
    },
    "language_info": {
      "nbconvert_exporter": "python",
      "codemirror_mode": {
        "version": 3,
        "name": "ipython"
      },
      "pygments_lexer": "ipython3",
      "file_extension": ".py",
      "version": "3.5.6",
      "mimetype": "text/x-python",
      "name": "python"
    }
  },
  "nbformat_minor": 0
}