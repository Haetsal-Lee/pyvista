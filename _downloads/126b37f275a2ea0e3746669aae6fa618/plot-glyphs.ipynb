{
  "nbformat_minor": 0,
  "metadata": {
    "kernelspec": {
      "language": "python",
      "name": "python3",
      "display_name": "Python 3"
    },
    "language_info": {
      "name": "python",
      "version": "3.5.6",
      "mimetype": "text/x-python",
      "codemirror_mode": {
        "name": "ipython",
        "version": 3
      },
      "nbconvert_exporter": "python",
      "pygments_lexer": "ipython3",
      "file_extension": ".py"
    }
  },
  "nbformat": 4,
  "cells": [
    {
      "outputs": [],
      "execution_count": null,
      "metadata": {
        "collapsed": false
      },
      "cell_type": "code",
      "source": [
        "%matplotlib inline"
      ]
    },
    {
      "metadata": {},
      "cell_type": "markdown",
      "metadata": {},
      "source": [
        "\n\nPlotting Glyphs\n~~~~~~~~~~~~~~~\n\nUse vectors in a dataset to plot and orient glyphs/geometric objects.\n\n"
      ]
    },
    {
      "outputs": [],
      "execution_count": null,
      "metadata": {
        "collapsed": false
      },
      "cell_type": "code",
      "source": [
        "# sphinx_gallery_thumbnail_number = 2\nimport vtki\nimport numpy as np"
      ]
    },
    {
      "metadata": {},
      "cell_type": "markdown",
      "metadata": {},
      "source": [
        "Glyphying can be done via the :func:`vtki.DataSetFilters.glyph` filter\n\n"
      ]
    },
    {
      "outputs": [],
      "execution_count": null,
      "metadata": {
        "collapsed": false
      },
      "cell_type": "code",
      "source": [
        "# Make a grid:\nx, y, z = np.meshgrid(np.linspace(-5, 5, 20),\n                  np.linspace(-5, 5, 20),\n                  np.linspace(-5, 5, 5))\n\ngrid = vtki.StructuredGrid(x, y, z)\n\nvectors = np.sin(grid.points)**3\n\n\n# Compute a direction for the vector field\ngrid.point_arrays['mag'] = np.linalg.norm(vectors, axis=1)\ngrid.point_arrays['vec'] = vectors\n\n# Make a geometric obhect to use as the glyph\ngeom = vtki.Arrow() # This could be any dataset\n\n# Perform the glyph\nglyphs = grid.glyph(orient='vec', scale='mag', factor=0.8, geom=geom)\n\n# plot using the plotting class\np = vtki.Plotter()\np.add_mesh(glyphs)\np.show()"
      ]
    },
    {
      "metadata": {},
      "cell_type": "markdown",
      "metadata": {},
      "source": [
        "Another approach is to load the vectors directly to the grid object and then\naccess the :attr:`vtki.Common.arrows` property.\n\n"
      ]
    },
    {
      "outputs": [],
      "execution_count": null,
      "metadata": {
        "collapsed": false
      },
      "cell_type": "code",
      "source": [
        "sphere = vtki.Sphere(radius=3.14)\n\n# make cool swirly pattern\nvectors = np.vstack((np.sin(sphere.points[:, 0]),\nnp.cos(sphere.points[:, 1]),\nnp.cos(sphere.points[:, 2]))).T\n\n# add and scale\nsphere.vectors = vectors*0.3\n\n# plot just the arrows\nsphere.arrows.plot()"
      ]
    },
    {
      "outputs": [],
      "execution_count": null,
      "metadata": {
        "collapsed": false
      },
      "cell_type": "code",
      "source": [
        "# plot the arrows and the sphere\np = vtki.Plotter()\np.add_mesh(sphere.arrows, lighting=False, stitle='Vector Magnitude')\np.add_mesh(sphere, color='grey', ambient=0.6, opacity=0.5, show_edges=False)\np.show()"
      ]
    }
  ],
  "metadata": {
    "kernelspec": {
      "display_name": "Python 3",
      "language": "python",
      "name": "python3"
    },
    "language_info": {
      "codemirror_mode": {
        "name": "ipython",
        "version": 3
      },
      "file_extension": ".py",
      "mimetype": "text/x-python",
      "name": "python",
      "nbconvert_exporter": "python",
      "pygments_lexer": "ipython3",
      "version": "3.6.7"
    }
  },
  "nbformat": 4,
  "nbformat_minor": 0
}