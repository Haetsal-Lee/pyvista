{
  "cells": [
    {
      "cell_type": "code",
      "execution_count": null,
      "metadata": {
        "collapsed": false
      },
      "outputs": [],
      "source": [
        "%matplotlib inline"
      ]
    },
    {
      "cell_type": "markdown",
      "metadata": {},
      "source": [
        "\nPlotting Glyphs\n~~~~~~~~~~~~~~~\n\nUse vectors in a dataset to plot and orient glyphs/geometric objects.\n"
      ]
    },
    {
      "cell_type": "markdown",
      "metadata": {},
      "source": [
        "Glyphying can be done via the :func:`vtki.DataSetFilters.glyph` filter\n\n"
      ]
    },
    {
      "cell_type": "code",
      "execution_count": null,
      "metadata": {
        "collapsed": false
      },
      "outputs": [],
      "source": [
        "# sphinx_gallery_thumbnail_number = 3\nimport vtki\nimport numpy as np"
      ]
    },
    {
      "cell_type": "code",
      "execution_count": null,
      "metadata": {
        "collapsed": false
      },
      "outputs": [],
      "source": [
        "# Make a grid\nx, y, z = np.meshgrid(np.linspace(-5, 5, 20),\n                  np.linspace(-5, 5, 20),\n                  np.linspace(-5, 5, 5))\n\ngrid = vtki.StructuredGrid(x, y, z)\n\nvectors = np.sin(grid.points)**3\n\n\n# Compute a direction for the vector field\ngrid.point_arrays['mag'] = np.linalg.norm(vectors, axis=1)\ngrid.point_arrays['vec'] = vectors\n\n# plot using the plotting class\np = vtki.Plotter()\np.add_mesh(grid.glyph(orient='vec', scale='mag', factor=1))\np.show()"
      ]
    },
    {
      "cell_type": "markdown",
      "metadata": {},
      "source": [
        "Another approach is to load the vectors directly to the grid object and then\naccess the :attr:`vtki.Common.arrows` property.\n\n"
      ]
    },
    {
      "cell_type": "code",
      "execution_count": null,
      "metadata": {
        "collapsed": false
      },
      "outputs": [],
      "source": [
        "import vtki\nimport numpy as np\n\nsphere = vtki.Sphere(radius=3.14)\n\n# make cool swirly pattern\nvectors = np.vstack((np.sin(sphere.points[:, 0]),\nnp.cos(sphere.points[:, 1]),\nnp.cos(sphere.points[:, 2]))).T\n\n# add and scale\nsphere.vectors = vectors*0.3\n\n# plot just the arrows\nsphere.arrows.plot()\n\n# plot the arrows and the sphere\np = vtki.Plotter()\np.add_mesh(sphere.arrows, lighting=False, stitle='Vector Magnitude')\np.add_mesh(sphere, color='grey', ambient=0.6, opacity=0.5, show_edges=False)\np.show()"
      ]
    }
  ],
  "metadata": {
    "kernelspec": {
      "display_name": "Python 3",
      "language": "python",
      "name": "python3"
    },
    "language_info": {
      "codemirror_mode": {
        "name": "ipython",
        "version": 3
      },
      "file_extension": ".py",
      "mimetype": "text/x-python",
      "name": "python",
      "nbconvert_exporter": "python",
      "pygments_lexer": "ipython3",
      "version": "3.7.1"
    }
  },
  "nbformat": 4,
  "nbformat_minor": 0
}