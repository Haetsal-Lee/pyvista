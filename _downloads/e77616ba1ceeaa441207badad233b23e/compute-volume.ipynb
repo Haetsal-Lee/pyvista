{
  "nbformat_minor": 0,
  "metadata": {
    "kernelspec": {
      "language": "python",
      "name": "python3",
      "display_name": "Python 3"
    },
    "language_info": {
      "name": "python",
      "version": "3.5.6",
      "mimetype": "text/x-python",
      "codemirror_mode": {
        "name": "ipython",
        "version": 3
      },
      "nbconvert_exporter": "python",
      "pygments_lexer": "ipython3",
      "file_extension": ".py"
    }
  },
  "nbformat": 4,
  "cells": [
    {
      "outputs": [],
      "execution_count": null,
      "metadata": {
        "collapsed": false
      },
      "cell_type": "code",
      "source": [
        "%matplotlib inline"
      ]
    },
    {
      "metadata": {},
      "cell_type": "markdown",
      "source": [
        "\nVolumetric Analysis\n~~~~~~~~~~~~~~~~~~~\n\n\nCalculate mass properties such as the volume or area of datasets\n\n"
      ]
    },
    {
      "outputs": [],
      "execution_count": null,
      "metadata": {
        "collapsed": false
      },
      "cell_type": "code",
      "source": [
        "# sphinx_gallery_thumbnail_number = 4\nimport numpy as np\nimport vtki\nfrom vtki import examples"
      ]
    },
    {
      "metadata": {},
      "cell_type": "markdown",
      "source": [
        "Computing mass properties such as the volume or area of datasetsin ``vtki``\nis quite easy using the :func:`vtki.DataSetFilters.compute_cell_sizes` filter\nand the :attr:`vtki.Common.volume` property on all ``vtki`` meshes.\n\nLet's get started with a simple gridded mesh:\n\n"
      ]
    },
    {
      "outputs": [],
      "execution_count": null,
      "metadata": {
        "collapsed": false
      },
      "cell_type": "code",
      "source": [
        "# Load a simple example mesh\ndataset = examples.load_uniform()\ndataset.set_active_scalar('Spatial Cell Data')"
      ]
    },
    {
      "metadata": {},
      "cell_type": "markdown",
      "source": [
        "We can then calculate the volume of every cell in the array using the\n``.compute_cell_sizes`` filter which will add arrays to the cell data of the\nmesh core the volume and area by default.\n\n"
      ]
    },
    {
      "outputs": [],
      "execution_count": null,
      "metadata": {
        "collapsed": false
      },
      "cell_type": "code",
      "source": [
        "# Compute volumes and areas\nsized = dataset.compute_cell_sizes()\n\n# Grab volumes for all cells in the mesh\ncell_volumes = sized.cell_arrays['Volume']"
      ]
    },
    {
      "metadata": {},
      "cell_type": "markdown",
      "source": [
        "We can also compute the total volume of the mesh using the ``.volume`` property:\n\n"
      ]
    },
    {
      "outputs": [],
      "execution_count": null,
      "metadata": {
        "collapsed": false
      },
      "cell_type": "code",
      "source": [
        "# Compute the total volume of the mesh\nvolume = dataset.volume"
      ]
    },
    {
      "metadata": {},
      "cell_type": "markdown",
      "source": [
        "Okay awesome! But what if we have have a dataset that we threshold with two\nvolumetric bodies left over in one dataset? Take this for example:\n\n"
      ]
    },
    {
      "outputs": [],
      "execution_count": null,
      "metadata": {
        "collapsed": false
      },
      "cell_type": "code",
      "source": [
        "threshed = dataset.threshold_percent([0.15, 0.50], invert=True)\nthreshed.plot(show_grid=True, cpos=[-2,5,3])"
      ]
    },
    {
      "metadata": {},
      "cell_type": "markdown",
      "source": [
        "We could then assign a classification array for the two bodies, compute the\ncell sizes, then extract the volumes of each body. Note that there is a simpler\nimplementation of this below in `split_vol_ref`.\n\n"
      ]
    },
    {
      "outputs": [],
      "execution_count": null,
      "metadata": {
        "collapsed": false
      },
      "cell_type": "code",
      "source": [
        "# Create a classifying array to ID each body\nrng = dataset.get_data_range()\ncval = ((rng[1] -rng[0]) * 0.20) + rng[0]\nclassifier = threshed.cell_arrays['Spatial Cell Data'] > cval\n\n# Compute cell volumes\nsizes = threshed.compute_cell_sizes()\nvolumes = sizes.cell_arrays['Volume']\n\n# Split volumes based on classifier and get volumes!\nidx = np.argwhere(classifier)\nhvol = np.sum(volumes[idx])\nidx = np.argwhere(~classifier)\nlvol = np.sum(volumes[idx])\n\nprint('Low grade volume: {}'.format(lvol))\nprint('High grade volume: {}'.format(hvol))\nprint('Original volume: {}'.format(dataset.volume))"
      ]
    },
    {
      "metadata": {},
      "cell_type": "markdown",
      "source": [
        "Or better yet, you could simply extract the largest volume from your\nthresholded dataset:\n\n"
      ]
    },
    {
      "outputs": [],
      "execution_count": null,
      "metadata": {
        "collapsed": false
      },
      "cell_type": "code",
      "source": [
        "# Grab the largest connected volume present\nlargest = threshed.connectivity(largest=1)\n\n# Get volume as numeric value\nlarge_volume = largest.volume\n\n# Display it!\nlargest.plot(show_grid=True, cpos=[-2,5,3])"
      ]
    },
    {
      "metadata": {},
      "cell_type": "markdown",
      "source": [
        "-----\n\n\nSplitting Volumes\n+++++++++++++++++\n\nWhat if instead, we wanted to split all the different connected bodies/volumes\nin a dataset like the one above? We could use the\n:func:`vtki.DataSetFilters.split_bodies` filter to extract all the different\nconnected volumes in a dataset into blocks in a :class:`vtki.MultiBlock`\ndataset. For example, lets split the thresholded volume in the example above:\n\n"
      ]
    },
    {
      "outputs": [],
      "execution_count": null,
      "metadata": {
        "collapsed": false
      },
      "cell_type": "code",
      "source": [
        "# Load a simple example mesh\ndataset = examples.load_uniform()\ndataset.set_active_scalar('Spatial Cell Data')\nthreshed = dataset.threshold_percent([0.15, 0.50], invert=True)\n\nbodies = threshed.split_bodies()\n\nfor i, body in enumerate(bodies):\n    print('Body {} volume: {:.3f}'.format(i, body.volume))"
      ]
    },
    {
      "outputs": [],
      "execution_count": null,
      "metadata": {
        "collapsed": false
      },
      "cell_type": "code",
      "source": [
        "bodies.plot(show_grid=True, multi_colors=True, cpos=[-2,5,3])"
      ]
    },
    {
      "metadata": {},
      "cell_type": "markdown",
      "source": [
        "-----\n\nA Real Dataset\n++++++++++++++\n\nHere is a realistic training dataset of fluvial channels in the subsurface.\nThis will threshold the channels from the dataset then separate each\nsignificantly large body and compute the volumes for each!\n\nLoad up the data and threshold the channels:\n\n"
      ]
    },
    {
      "outputs": [],
      "execution_count": null,
      "metadata": {
        "collapsed": false
      },
      "cell_type": "code",
      "source": [
        "data = examples.load_channels()\nchannels = data.threshold([0.9, 1.1])"
      ]
    },
    {
      "metadata": {},
      "cell_type": "markdown",
      "source": [
        "Now extract all the different bodies and compute their volumes:\n\n"
      ]
    },
    {
      "outputs": [],
      "execution_count": null,
      "metadata": {
        "collapsed": false
      },
      "cell_type": "code",
      "source": [
        "bodies = channels.split_bodies()\n# Now remove all bodies with a small volume\nfor key in bodies.keys():\n    b = bodies[key]\n    vol = b.volume\n    if vol < 1000.0:\n        del bodies[key]\n        continue\n    # Now lets add a volume array to all blocks\n    b.cell_arrays['TOTAL VOLUME'] = np.full(b.n_cells, vol)"
      ]
    },
    {
      "metadata": {},
      "cell_type": "markdown",
      "source": [
        "Print out the volumes for each body:\n\n"
      ]
    },
    {
      "outputs": [],
      "execution_count": null,
      "metadata": {
        "collapsed": false
      },
      "cell_type": "code",
      "source": [
        "for i, body in enumerate(bodies):\n    print('Body {:02d} volume: {:.3f}'.format(i, body.volume))"
      ]
    },
    {
      "metadata": {},
      "cell_type": "markdown",
      "source": [
        "And visualize all the different volumes:\n\n"
      ]
    },
    {
      "outputs": [],
      "execution_count": null,
      "metadata": {
        "collapsed": false
      },
      "cell_type": "code",
      "source": [
        "bodies.plot(scalars='TOTAL VOLUME', cmap='viridis', show_grid=True)"
      ]
    }
  ]
}