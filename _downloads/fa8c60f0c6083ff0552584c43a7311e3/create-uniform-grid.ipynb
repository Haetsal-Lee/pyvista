{
  "cells": [
    {
      "cell_type": "code",
      "execution_count": null,
      "outputs": [],
      "metadata": {
        "collapsed": false
      },
      "source": [
        "%matplotlib inline"
      ]
    },
    {
      "cell_type": "markdown",
      "source": [
        "\nCreating a Uniform Grid\n~~~~~~~~~~~~~~~~~~~~~~~\n\nCreate a simple uniform grid from a 3D NumPy array of values.\n\n\n"
      ],
      "metadata": {}
    },
    {
      "cell_type": "code",
      "execution_count": null,
      "outputs": [],
      "metadata": {
        "collapsed": false
      },
      "source": [
        "import vtki\nimport numpy as np"
      ]
    },
    {
      "cell_type": "markdown",
      "source": [
        "Take a 3D NumPy array of data values that holds some spatial data where each\naxis corresponds to the XYZ cartesian axes. This example will create a\n:class:`vtki.UniformGrid` object that will hold the spatial reference for a\n3D grid which a 3D NumPy array of values can be plotted against.\n\n"
      ],
      "metadata": {}
    },
    {
      "cell_type": "markdown",
      "source": [
        "Create the 3D NumPy array of spatially referenced data\nThis is spatially referenced such that the grid is 20 by 5 by 10 (nx by ny by nz)\n\n"
      ],
      "metadata": {}
    },
    {
      "cell_type": "code",
      "execution_count": null,
      "outputs": [],
      "metadata": {
        "collapsed": false
      },
      "source": [
        "values = np.linspace(0, 10, 1000).reshape((20, 5, 10))\nvalues.shape\n\n# Create the spatial reference\ngrid = vtki.UniformGrid()\n\n# Set the grid dimensions: shape + 1 because we want to inject our values on the CELL data\ngrid.dimensions = np.array(values.shape) + 1\n\n# Edit the spatial reference\ngrid.origin = (100, 33, 55.6) # The bottom left corner of the data set\ngrid.spacing = (1, 5, 2) # These are the cell sizes along each axis\n\n# Add the data values to the cell data\ngrid.cell_arrays['values'] = values.flatten(order='F') # Flatten the array!\n\n# Now plot the grid!\ngrid.plot(show_edges=True)"
      ]
    },
    {
      "cell_type": "markdown",
      "source": [
        "Don't like cell data? You could also add the NumPy array to the point data of a\n:class:`vtki.UniformGrid`. Take note of the subtle difference when setting the\ngrid dimensions upon initialization.\n\n"
      ],
      "metadata": {}
    },
    {
      "cell_type": "code",
      "execution_count": null,
      "outputs": [],
      "metadata": {
        "collapsed": false
      },
      "source": [
        "# Create the 3D NumPy array of spatially referenced data\n# This is spatially referenced such that the grid is 20 by 5 by 10 (nx by ny by nz)\nvalues = np.linspace(0, 10, 1000).reshape((20, 5, 10))\nvalues.shape\n\n# Create the spatial reference\ngrid = vtki.UniformGrid()\n\n# Set the grid dimensions: shape because we want to inject our values on the POINT data\ngrid.dimensions = values.shape\n\n# Edit the spatial reference\ngrid.origin = (100, 33, 55.6) # The bottom left corner of the data set\ngrid.spacing = (1, 5, 2) # These are the cell sizes along each axis\n\n# Add the data values to the cell data\ngrid.point_arrays['values'] = values.flatten(order='F') # Flatten the array!\n\n# Now plot the grid!\ngrid.plot(show_edges=True)"
      ]
    }
  ],
  "nbformat": 4,
  "metadata": {
    "kernelspec": {
      "language": "python",
      "display_name": "Python 3",
      "name": "python3"
    },
    "language_info": {
      "nbconvert_exporter": "python",
      "codemirror_mode": {
        "version": 3,
        "name": "ipython"
      },
      "pygments_lexer": "ipython3",
      "file_extension": ".py",
      "version": "3.5.6",
      "mimetype": "text/x-python",
      "name": "python"
    }
  },
  "nbformat_minor": 0
}