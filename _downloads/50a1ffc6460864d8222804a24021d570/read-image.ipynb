{
  "cells": [
    {
      "cell_type": "code",
      "execution_count": null,
      "metadata": {
        "collapsed": false
      },
      "outputs": [],
      "source": [
        "%matplotlib inline"
      ]
    },
    {
      "cell_type": "markdown",
      "metadata": {},
      "source": [
        "\nRead Image Files\n~~~~~~~~~~~~~~~~\n\nRead and plot image files (JPEG, TIFF, PNG, etc).\n"
      ]
    },
    {
      "cell_type": "code",
      "execution_count": null,
      "metadata": {
        "collapsed": false
      },
      "outputs": [],
      "source": [
        "from vista import examples"
      ]
    },
    {
      "cell_type": "markdown",
      "metadata": {},
      "source": [
        "``vista`` fully supportes reading images into their own spatially referenced\ndata objects (this example) as well as supports texture mapping of images onto\ndatasets (see `ref_texture_example`).\n\nDownload a JPEG image of a puppy and load it to :class:`vista.UniformGrid`.\nThis could similarly be implemented with any image file by using the\n:func:`vista.read` function and passing the path to the image file.\n\n"
      ]
    },
    {
      "cell_type": "code",
      "execution_count": null,
      "metadata": {
        "collapsed": false
      },
      "outputs": [],
      "source": [
        "image = examples.download_puppy()\n# or...\n# image = vista.read('my_image.jpg')"
      ]
    },
    {
      "cell_type": "markdown",
      "metadata": {},
      "source": [
        "When plotting images stored in :class:`vista.UniformGrid` objects, it is\nimportant to specify usign the `rgb` option when plotting to ensure that the\nimage's true colors are used and not mapped.\n\n"
      ]
    },
    {
      "cell_type": "code",
      "execution_count": null,
      "metadata": {
        "collapsed": false
      },
      "outputs": [],
      "source": [
        "# True image colors\nimage.plot(rgb=True, cpos='xy')"
      ]
    },
    {
      "cell_type": "code",
      "execution_count": null,
      "metadata": {
        "collapsed": false
      },
      "outputs": [],
      "source": [
        "# Mapped image colors\nimage.plot(cpos='xy')"
      ]
    }
  ],
  "metadata": {
    "kernelspec": {
      "display_name": "Python 3",
      "language": "python",
      "name": "python3"
    },
    "language_info": {
      "codemirror_mode": {
        "name": "ipython",
        "version": 3
      },
      "file_extension": ".py",
      "mimetype": "text/x-python",
      "name": "python",
      "nbconvert_exporter": "python",
      "pygments_lexer": "ipython3",
      "version": "3.7.1"
    }
  },
  "nbformat": 4,
  "nbformat_minor": 0
}