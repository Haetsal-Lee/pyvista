{
  "cells": [
    {
      "cell_type": "code",
      "execution_count": null,
      "outputs": [],
      "metadata": {
        "collapsed": false
      },
      "source": [
        "%matplotlib inline"
      ]
    },
    {
      "cell_type": "markdown",
      "source": [
        "\nEye Dome Lighting\n~~~~~~~~~~~~~~~~~\n\nEye-Dome Lighting (EDL) is a non-photorealistic, image-based shading technique\ndesigned to improve depth perception in scientific visualization images.\nTo learn more, please see `this blog post`_.\n\n\n\n"
      ],
      "metadata": {}
    },
    {
      "cell_type": "code",
      "execution_count": null,
      "outputs": [],
      "metadata": {
        "collapsed": false
      },
      "source": [
        "# sphinx_gallery_thumbnail_number = 1\nimport vtki\nfrom vtki import examples"
      ]
    },
    {
      "cell_type": "markdown",
      "source": [
        "Statue\n+++++++++++\n\nEye-Dome Lighting can dramatically improve depth perception when plotting\nincredebily sophisticated meshes like the creative commons Queen Nefertiti\nstatue:\n\n"
      ],
      "metadata": {}
    },
    {
      "cell_type": "code",
      "execution_count": null,
      "outputs": [],
      "metadata": {
        "collapsed": false
      },
      "source": [
        "nefertiti = examples.download_nefertiti()\nnefertiti.plot(eye_dome_lighting=True, cpos=[-1,-1,0.2])"
      ]
    },
    {
      "cell_type": "markdown",
      "source": [
        "Here we will compare a EDL shading side by side with normal shading\n\n"
      ],
      "metadata": {}
    },
    {
      "cell_type": "code",
      "execution_count": null,
      "outputs": [],
      "metadata": {
        "collapsed": false
      },
      "source": [
        "p = vtki.Plotter(shape=(1, 2), border=False)\n\n# With eye-dome lighting\np.subplot(0,0)\np.add_mesh(nefertiti)\np.enable_eye_dome_lighting()\np.add_text('Eye-Dome Lighting')\np.camera_position = [-1,-1,0.2]\n\n# No eye-dome lighting\np.subplot(0,1)\np.add_mesh(nefertiti)\np.add_text('No Eye-Dome Lighting')\np.camera_position = [-1,-1,0.2]\n\np.show()"
      ]
    },
    {
      "cell_type": "markdown",
      "source": [
        "Point Cloud\n+++++++++++\n\nWhen plotting a simple point cloud, it can be difficult to perceive depth.\nTake this Lidar point cloud for example:\n\n"
      ],
      "metadata": {}
    },
    {
      "cell_type": "code",
      "execution_count": null,
      "outputs": [],
      "metadata": {
        "collapsed": false
      },
      "source": [
        "point_cloud = examples.download_lidar()"
      ]
    },
    {
      "cell_type": "markdown",
      "source": [
        "And now plot this point cloud as-is:\n\n"
      ],
      "metadata": {}
    },
    {
      "cell_type": "code",
      "execution_count": null,
      "outputs": [],
      "metadata": {
        "collapsed": false
      },
      "source": [
        "# Plot a typical point cloud with no EDL\np = vtki.Plotter()\np.add_mesh(point_cloud, color='tan', point_size=5)\np.show()"
      ]
    },
    {
      "cell_type": "markdown",
      "source": [
        "We can improve the depth mapping by enabling eye dome lighting on the renderer.\nReference :func:`vtki.Renderer.enable_eye_dome_lighting`.\n\n"
      ],
      "metadata": {}
    },
    {
      "cell_type": "code",
      "execution_count": null,
      "outputs": [],
      "metadata": {
        "collapsed": false
      },
      "source": [
        "# Plot with EDL\np = vtki.Plotter()\np.add_mesh(point_cloud, color='tan', point_size=5)\np.enable_eye_dome_lighting()\np.show()"
      ]
    },
    {
      "cell_type": "markdown",
      "source": [
        "The eye dome lighting mode can also handle plotting scalar arrays:\n\n"
      ],
      "metadata": {}
    },
    {
      "cell_type": "code",
      "execution_count": null,
      "outputs": [],
      "metadata": {
        "collapsed": false
      },
      "source": [
        "# Plot with EDL and scalar data\np = vtki.Plotter()\np.add_mesh(point_cloud, scalars='Elevation', point_size=5)\np.enable_eye_dome_lighting()\np.show()"
      ]
    }
  ],
  "nbformat": 4,
  "metadata": {
    "kernelspec": {
      "language": "python",
      "display_name": "Python 3",
      "name": "python3"
    },
    "language_info": {
      "nbconvert_exporter": "python",
      "codemirror_mode": {
        "version": 3,
        "name": "ipython"
      },
      "pygments_lexer": "ipython3",
      "file_extension": ".py",
      "version": "3.5.6",
      "mimetype": "text/x-python",
      "name": "python"
    }
  },
  "nbformat_minor": 0
}