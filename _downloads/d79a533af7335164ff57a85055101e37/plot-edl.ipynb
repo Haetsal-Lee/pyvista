{
  "nbformat_minor": 0,
  "metadata": {
    "kernelspec": {
      "language": "python",
      "name": "python3",
      "display_name": "Python 3"
    },
    "language_info": {
      "name": "python",
      "version": "3.5.6",
      "mimetype": "text/x-python",
      "codemirror_mode": {
        "name": "ipython",
        "version": 3
      },
      "nbconvert_exporter": "python",
      "pygments_lexer": "ipython3",
      "file_extension": ".py"
    }
  },
  "nbformat": 4,
  "cells": [
    {
      "outputs": [],
      "execution_count": null,
      "metadata": {
        "collapsed": false
      },
      "cell_type": "code",
      "source": [
        "%matplotlib inline"
      ]
    },
    {
      "metadata": {},
      "cell_type": "markdown",
      "metadata": {},
      "source": [
        "\nEye Dome Lighting\n~~~~~~~~~~~~~~~~~\n\nEye-Dome Lighting (EDL) is a non-photorealistic, image-based shading technique\ndesigned to improve depth perception in scientific visualization images.\nTo learn more, please see `this blog post`_.\n\n\n\n"
      ]
    },
    {
      "outputs": [],
      "execution_count": null,
      "metadata": {
        "collapsed": false
      },
      "cell_type": "code",
      "source": [
        "# sphinx_gallery_thumbnail_number = 1\nimport vtki\nfrom vtki import examples"
      ]
    },
    {
      "metadata": {},
      "cell_type": "markdown",
      "metadata": {},
      "source": [
        "Statue\n+++++++++++\n\nEye-Dome Lighting can dramatically improve depth perception when plotting\nincredebily sophisticated meshes like the creative commons Queen Nefertiti\nstatue:\n\n"
      ]
    },
    {
      "outputs": [],
      "execution_count": null,
      "metadata": {
        "collapsed": false
      },
      "cell_type": "code",
      "source": [
        "nefertiti = examples.download_nefertiti()\nnefertiti.plot(eye_dome_lighting=True, cpos=[-1,-1,0.2])"
      ]
    },
    {
      "metadata": {},
      "cell_type": "markdown",
      "metadata": {},
      "source": [
        "Here we will compare a EDL shading side by side with normal shading\n\n"
      ]
    },
    {
      "outputs": [],
      "execution_count": null,
      "metadata": {
        "collapsed": false
      },
      "cell_type": "code",
      "source": [
        "p = vtki.Plotter(shape=(1, 2), border=False)\n\n# With eye-dome lighting\np.subplot(0,0)\np.add_mesh(nefertiti)\np.enable_eye_dome_lighting()\np.add_text('Eye-Dome Lighting')\np.camera_position = [-1,-1,0.2]\n\n# No eye-dome lighting\np.subplot(0,1)\np.add_mesh(nefertiti)\np.add_text('No Eye-Dome Lighting')\np.camera_position = [-1,-1,0.2]\n\np.show()"
      ]
    },
    {
      "metadata": {},
      "cell_type": "markdown",
      "metadata": {},
      "source": [
        "Point Cloud\n+++++++++++\n\nWhen plotting a simple point cloud, it can be difficult to perceive depth.\nTake this Lidar point cloud for example:\n\n"
      ]
    },
    {
      "outputs": [],
      "execution_count": null,
      "metadata": {
        "collapsed": false
      },
      "cell_type": "code",
      "source": [
        "point_cloud = examples.download_lidar()"
      ]
    },
    {
      "metadata": {},
      "cell_type": "markdown",
      "metadata": {},
      "source": [
        "And now plot this point cloud as-is:\n\n"
      ]
    },
    {
      "outputs": [],
      "execution_count": null,
      "metadata": {
        "collapsed": false
      },
      "cell_type": "code",
      "source": [
        "# Plot a typical point cloud with no EDL\np = vtki.Plotter()\np.add_mesh(point_cloud, color='tan', point_size=5)\np.show()"
      ]
    },
    {
      "metadata": {},
      "cell_type": "markdown",
      "metadata": {},
      "source": [
        "We can improve the depth mapping by enabling eye dome lighting on the renderer.\nReference :func:`vtki.Renderer.enable_eye_dome_lighting`.\n\n"
      ]
    },
    {
      "outputs": [],
      "execution_count": null,
      "metadata": {
        "collapsed": false
      },
      "cell_type": "code",
      "source": [
        "# Plot with EDL\np = vtki.Plotter()\np.add_mesh(point_cloud, color='tan', point_size=5)\np.enable_eye_dome_lighting()\np.show()"
      ]
    },
    {
      "metadata": {},
      "cell_type": "markdown",
      "metadata": {},
      "source": [
        "The eye dome lighting mode can also handle plotting scalar arrays:\n\n"
      ]
    },
    {
      "outputs": [],
      "execution_count": null,
      "metadata": {
        "collapsed": false
      },
      "cell_type": "code",
      "source": [
        "# Plot with EDL and scalar data\np = vtki.Plotter()\np.add_mesh(point_cloud, scalars='Elevation', point_size=5)\np.enable_eye_dome_lighting()\np.show()"
      ]
    }
  ]
}