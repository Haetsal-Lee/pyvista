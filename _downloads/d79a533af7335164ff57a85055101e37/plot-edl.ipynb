{
  "cells": [
    {
      "cell_type": "code",
      "execution_count": null,
      "metadata": {
        "collapsed": false
      },
      "outputs": [],
      "source": [
        "%matplotlib inline"
      ]
    },
    {
      "cell_type": "markdown",
      "metadata": {},
      "source": [
        "\nPlot Eye Dome Lighting\n~~~~~~~~~~~~~~~~~~~~~~\n\nEye-Dome Lighting (EDL) is a non-photorealistic, image-based shading technique\ndesigned to improve depth perception in scientific visualization images.\nTo learn more, please see `this blog post`_.\n\n\n\nWhen plotting a simple point cloud, it can be difficult to perceive depth.\nTake this Lidar point cloud for example:\n"
      ]
    },
    {
      "cell_type": "code",
      "execution_count": null,
      "metadata": {
        "collapsed": false
      },
      "outputs": [],
      "source": [
        "# sphinx_gallery_thumbnail_number = 2\nimport vtki\nfrom vtki import examples"
      ]
    },
    {
      "cell_type": "markdown",
      "metadata": {},
      "source": [
        "Load a sample point cloud.\n\n"
      ]
    },
    {
      "cell_type": "code",
      "execution_count": null,
      "metadata": {
        "collapsed": false
      },
      "outputs": [],
      "source": [
        "point_cloud = examples.download_lidar()"
      ]
    },
    {
      "cell_type": "markdown",
      "metadata": {},
      "source": [
        "And now plot this point cloud as-is:\n\n"
      ]
    },
    {
      "cell_type": "code",
      "execution_count": null,
      "metadata": {
        "collapsed": false
      },
      "outputs": [],
      "source": [
        "# Plot a typical point cloud with no EDL\np = vtki.Plotter()\np.add_mesh(point_cloud, color='orange', point_size=5)\np.show()"
      ]
    },
    {
      "cell_type": "markdown",
      "metadata": {},
      "source": [
        "We can improve the depth mapping by enabling eye dome lighting on the renderer.\nReference :func:`vtki.Renderer.enable_eye_dome_lighting`.\n\n"
      ]
    },
    {
      "cell_type": "code",
      "execution_count": null,
      "metadata": {
        "collapsed": false
      },
      "outputs": [],
      "source": [
        "# Plot with EDL\np = vtki.Plotter()\np.add_mesh(point_cloud, color='orange', point_size=5)\np.enable_eye_dome_lighting()\np.show()"
      ]
    },
    {
      "cell_type": "markdown",
      "metadata": {},
      "source": [
        "The eye dome lighting mode can also handle plotting scalar arrays:\n\n"
      ]
    },
    {
      "cell_type": "code",
      "execution_count": null,
      "metadata": {
        "collapsed": false
      },
      "outputs": [],
      "source": [
        "# Plot with EDL and scalar data\np = vtki.Plotter()\np.add_mesh(point_cloud, scalars='Elevation', point_size=5)\np.enable_eye_dome_lighting()\np.show()"
      ]
    }
  ],
  "metadata": {
    "kernelspec": {
      "display_name": "Python 3",
      "language": "python",
      "name": "python3"
    },
    "language_info": {
      "codemirror_mode": {
        "name": "ipython",
        "version": 3
      },
      "file_extension": ".py",
      "mimetype": "text/x-python",
      "name": "python",
      "nbconvert_exporter": "python",
      "pygments_lexer": "ipython3",
      "version": "3.7.1"
    }
  },
  "nbformat": 4,
  "nbformat_minor": 0
}