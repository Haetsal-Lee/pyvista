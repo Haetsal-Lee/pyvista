{
  "cells": [
    {
      "cell_type": "code",
      "execution_count": null,
      "outputs": [],
      "metadata": {
        "collapsed": false
      },
      "source": [
        "%matplotlib inline"
      ]
    },
    {
      "cell_type": "markdown",
      "source": [
        "\nCreate Triangulated Surface\n~~~~~~~~~~~~~~~~~~~~~~~~~~~\n\nCreate a surface from a set of points through a Delaunay triangulation.\n\n"
      ],
      "metadata": {}
    },
    {
      "cell_type": "code",
      "execution_count": null,
      "outputs": [],
      "metadata": {
        "collapsed": false
      },
      "source": [
        "# sphinx_gallery_thumbnail_number = 2\nimport vtki\nimport numpy as np"
      ]
    },
    {
      "cell_type": "markdown",
      "source": [
        "First, create some points for the surface.\n\n"
      ],
      "metadata": {}
    },
    {
      "cell_type": "code",
      "execution_count": null,
      "outputs": [],
      "metadata": {
        "collapsed": false
      },
      "source": [
        "# Define a simple Gaussian surface\nxx, yy = np.meshgrid(np.linspace(-200,200,20), np.linspace(-200,200,20))\nA, b = 100, 100\nzz = A*np.exp(-0.5*((xx/b)**2. + (yy/b)**2.))\n\n# Get the points as a 2D NumPy array (N by 3)\npoints = np.c_[xx.reshape(-1), yy.reshape(-1), zz.reshape(-1)]\nprint(points[0:5, :])"
      ]
    },
    {
      "cell_type": "markdown",
      "source": [
        "Now use those points to create a point cloud ``vtki`` data object. This will\nbe encompassed in a :class:`vtki.PolyData` object.\n\n"
      ],
      "metadata": {}
    },
    {
      "cell_type": "code",
      "execution_count": null,
      "outputs": [],
      "metadata": {
        "collapsed": false
      },
      "source": [
        "# simply pass the numpy points to the PolyData constructor\ncloud = vtki.PolyData(points)\nvtki.set_plot_theme('doc')\ncloud.plot(point_size=15)"
      ]
    },
    {
      "cell_type": "markdown",
      "source": [
        "Now that we have a ``vtki`` data structure of the points, we can perform a\ntriangulation to turn those boring discrete points into a connected surface.\n\n"
      ],
      "metadata": {}
    },
    {
      "cell_type": "code",
      "execution_count": null,
      "outputs": [],
      "metadata": {
        "collapsed": false
      },
      "source": [
        "surf = cloud.delaunay_2d()\nsurf.plot(show_edges=True)"
      ]
    }
  ],
  "nbformat": 4,
  "metadata": {
    "kernelspec": {
      "language": "python",
      "display_name": "Python 3",
      "name": "python3"
    },
    "language_info": {
      "nbconvert_exporter": "python",
      "codemirror_mode": {
        "version": 3,
        "name": "ipython"
      },
      "pygments_lexer": "ipython3",
      "file_extension": ".py",
      "version": "3.5.6",
      "mimetype": "text/x-python",
      "name": "python"
    }
  },
  "nbformat_minor": 0
}