{
  "nbformat_minor": 0,
  "metadata": {
    "kernelspec": {
      "language": "python",
      "name": "python3",
      "display_name": "Python 3"
    },
    "language_info": {
      "name": "python",
      "version": "3.5.6",
      "mimetype": "text/x-python",
      "codemirror_mode": {
        "name": "ipython",
        "version": 3
      },
      "nbconvert_exporter": "python",
      "pygments_lexer": "ipython3",
      "file_extension": ".py"
    }
  },
  "nbformat": 4,
  "cells": [
    {
      "outputs": [],
      "execution_count": null,
      "metadata": {
        "collapsed": false
      },
      "cell_type": "code",
      "source": [
        "%matplotlib inline"
      ]
    },
    {
      "metadata": {},
      "cell_type": "markdown",
      "metadata": {},
      "source": [
        "\nCreate Triangulated Surface\n~~~~~~~~~~~~~~~~~~~~~~~~~~~\n\nCreate a surface from a set of points through a Delaunay triangulation.\n\n"
      ]
    },
    {
      "outputs": [],
      "execution_count": null,
      "metadata": {
        "collapsed": false
      },
      "cell_type": "code",
      "source": [
        "# sphinx_gallery_thumbnail_number = 2\nimport vtki\nimport numpy as np"
      ]
    },
    {
      "metadata": {},
      "cell_type": "markdown",
      "metadata": {},
      "source": [
        "First, create some points for the surface.\n\n"
      ]
    },
    {
      "outputs": [],
      "execution_count": null,
      "metadata": {
        "collapsed": false
      },
      "cell_type": "code",
      "source": [
        "# Define a simple Gaussian surface\nxx, yy = np.meshgrid(np.linspace(-200,200,20), np.linspace(-200,200,20))\nA, b = 100, 100\nzz = A*np.exp(-0.5*((xx/b)**2. + (yy/b)**2.))\n\n# Get the points as a 2D NumPy array (N by 3)\npoints = np.c_[xx.reshape(-1), yy.reshape(-1), zz.reshape(-1)]\nprint(points[0:5, :])"
      ]
    },
    {
      "metadata": {},
      "cell_type": "markdown",
      "metadata": {},
      "source": [
        "Now use those points to create a point cloud ``vtki`` data object. This will\nbe encompassed in a :class:`vtki.PolyData` object.\n\n"
      ]
    },
    {
      "outputs": [],
      "execution_count": null,
      "metadata": {
        "collapsed": false
      },
      "cell_type": "code",
      "source": [
        "# simply pass the numpy points to the PolyData constructor\ncloud = vtki.PolyData(points)\nvtki.set_plot_theme('doc')\ncloud.plot(point_size=15)"
      ]
    },
    {
      "metadata": {},
      "cell_type": "markdown",
      "metadata": {},
      "source": [
        "Now that we have a ``vtki`` data structure of the points, we can perform a\ntriangulation to turn those boring discrete points into a connected surface.\n\n"
      ]
    },
    {
      "outputs": [],
      "execution_count": null,
      "metadata": {
        "collapsed": false
      },
      "cell_type": "code",
      "source": [
        "surf = cloud.delaunay_2d()\nsurf.plot(show_edges=True)"
      ]
    }
  ]
}