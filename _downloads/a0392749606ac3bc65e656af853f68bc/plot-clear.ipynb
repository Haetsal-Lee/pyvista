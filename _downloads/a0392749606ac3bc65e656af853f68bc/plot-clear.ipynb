{
  "cells": [
    {
      "cell_type": "code",
      "execution_count": null,
      "metadata": {
        "collapsed": false
      },
      "outputs": [],
      "source": [
        "%matplotlib inline"
      ]
    },
    {
      "cell_type": "markdown",
      "metadata": {},
      "source": [
        "\nClearing a Mesh or the Entire Plot\n~~~~~~~~~~~~~~~~~~~~~~~~~~~~~~~~~~\n\nThis example demonstrates how to remove elements from a scene.\n"
      ]
    },
    {
      "cell_type": "code",
      "execution_count": null,
      "metadata": {
        "collapsed": false
      },
      "outputs": [],
      "source": [
        "# sphinx_gallery_thumbnail_number = 3\nimport pyvista"
      ]
    },
    {
      "cell_type": "code",
      "execution_count": null,
      "metadata": {
        "collapsed": false
      },
      "outputs": [],
      "source": [
        "plotter = pyvista.Plotter()\nactor = plotter.add_mesh(pyvista.Sphere())\nplotter.remove_actor(actor)\nplotter.show()"
      ]
    },
    {
      "cell_type": "markdown",
      "metadata": {},
      "source": [
        "Clearing the entire plotting window:\n\n"
      ]
    },
    {
      "cell_type": "code",
      "execution_count": null,
      "metadata": {
        "collapsed": false
      },
      "outputs": [],
      "source": [
        "plotter = pyvista.Plotter()\nplotter.add_mesh(pyvista.Sphere())\nplotter.add_mesh(pyvista.Plane())\nplotter.clear()  # clears all actors\nplotter.show()"
      ]
    },
    {
      "cell_type": "markdown",
      "metadata": {},
      "source": [
        "Or you can give any actor a ``name`` when adding it and if an actor is added\nwith that same name at a later time, it will replace the previous actor:\n\n"
      ]
    },
    {
      "cell_type": "code",
      "execution_count": null,
      "metadata": {
        "collapsed": false
      },
      "outputs": [],
      "source": [
        "plotter = pyvista.Plotter()\nplotter.add_mesh(pyvista.Sphere(), name='mydata')\nplotter.add_mesh(pyvista.Plane(), name='mydata')\n# Only the Plane is shown!\nplotter.show()"
      ]
    }
  ],
  "metadata": {
    "kernelspec": {
      "display_name": "Python 3",
      "language": "python",
      "name": "python3"
    },
    "language_info": {
      "codemirror_mode": {
        "name": "ipython",
        "version": 3
      },
      "file_extension": ".py",
      "mimetype": "text/x-python",
      "name": "python",
      "nbconvert_exporter": "python",
      "pygments_lexer": "ipython3",
      "version": "3.7.1"
    }
  },
  "nbformat": 4,
  "nbformat_minor": 0
}