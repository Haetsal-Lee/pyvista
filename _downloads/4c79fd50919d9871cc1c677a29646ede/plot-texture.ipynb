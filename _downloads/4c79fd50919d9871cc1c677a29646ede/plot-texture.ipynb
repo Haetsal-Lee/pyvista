{
  "cells": [
    {
      "cell_type": "code",
      "execution_count": null,
      "metadata": {
        "collapsed": false
      },
      "outputs": [],
      "source": [
        "%matplotlib inline"
      ]
    },
    {
      "cell_type": "markdown",
      "metadata": {},
      "source": [
        "\n\nApplying Textures\n~~~~~~~~~~~~~~~~~\n\nPlot a mesh with an image projected onto it as a texture.\n"
      ]
    },
    {
      "cell_type": "code",
      "execution_count": null,
      "metadata": {
        "collapsed": false
      },
      "outputs": [],
      "source": [
        "import vista\nfrom vista import examples\nimport numpy as np\nfrom matplotlib.cm import get_cmap"
      ]
    },
    {
      "cell_type": "markdown",
      "metadata": {},
      "source": [
        "Texture mapping is easily implemented using ``vista``. Many of the geometric\nobjects come preloaded with texture coordinates, so quickly creating a surface\nand displaying an image is simply:\n\n"
      ]
    },
    {
      "cell_type": "code",
      "execution_count": null,
      "metadata": {
        "collapsed": false
      },
      "outputs": [],
      "source": [
        "# load a sample texture\ntex = examples.download_masonry_texture()\n\n# create a surface to host this texture\nsurf = vista.Cylinder()\n\nsurf.plot(texture=tex)"
      ]
    },
    {
      "cell_type": "markdown",
      "metadata": {},
      "source": [
        "But what if your dataset doesn't have texture coordinates? Then you can\nharness the :func:`vista.DataSetFilters.texture_map_to_plane` filter to\nproperly map an image to a dataset's surface.\nFor example, let's map that same image of bricks to a curvey surface:\n\n"
      ]
    },
    {
      "cell_type": "code",
      "execution_count": null,
      "metadata": {
        "collapsed": false
      },
      "outputs": [],
      "source": [
        "# create a structured surface\nx = np.arange(-10, 10, 0.25)\ny = np.arange(-10, 10, 0.25)\nx, y = np.meshgrid(x, y)\nr = np.sqrt(x**2 + y**2)\nz = np.sin(r)\ncurvsurf = vista.StructuredGrid(x, y, z)\n\n# Map the curved surface to a plane - use best fitting plane\ncurvsurf.texture_map_to_plane(inplace=True)\n\ncurvsurf.plot(texture=tex)"
      ]
    },
    {
      "cell_type": "markdown",
      "metadata": {},
      "source": [
        "Note that this process can be completed with any image texture!\n\n"
      ]
    },
    {
      "cell_type": "code",
      "execution_count": null,
      "metadata": {
        "collapsed": false
      },
      "outputs": [],
      "source": [
        "# use the puppy image\ntex = examples.download_puppy_texture()\ncurvsurf.plot(texture=tex)"
      ]
    },
    {
      "cell_type": "markdown",
      "metadata": {},
      "source": [
        "Textures from Files\n+++++++++++++++++++\n\nWhat about loading your own texture from an image? This is often most easily\ndone using the :func:`vista.read_texture` function - simply pass an image\nfile's path, and this function with handle making a ``vtkTexture`` for you to\nuse.\n\n"
      ]
    },
    {
      "cell_type": "code",
      "execution_count": null,
      "metadata": {
        "collapsed": false
      },
      "outputs": [],
      "source": [
        "image_file = examples.mapfile\ntex = vista.read_texture(image_file)\ncurvsurf.plot(texture=tex)"
      ]
    },
    {
      "cell_type": "markdown",
      "metadata": {},
      "source": [
        "NumPy Arrays as Textures\n++++++++++++++++++++++++\n\nWan't to use a programmaticaly built image? :class:`vista.UniformGrid` objects\ncan be converted to textures using :func:`vista.image_to_texture` and 3D\nNumPy (X by Y by RGB) arrays can be converted to textures using\n:func:`vista.numpy_to_texture`.\n\n"
      ]
    },
    {
      "cell_type": "code",
      "execution_count": null,
      "metadata": {
        "collapsed": false
      },
      "outputs": [],
      "source": [
        "# create an image using Numpy,\nxx, yy = np.meshgrid(np.linspace(-200,200,20), np.linspace(-200,200,20))\nA, b = 500, 100\nzz = A*np.exp(-0.5*((xx/b)**2. + (yy/b)**2.))\n\n# Creating a custom RGB image\ncmap = get_cmap('nipy_spectral')\nnorm = lambda x: (x - np.nanmin(x)) / (np.nanmax(x) - np.nanmin(x))\nhue = norm(zz.ravel())\ncolors = (cmap(hue)[:, 0:3] * 255.).astype(np.uint8)\nimage = colors.reshape((xx.shape[0], xx.shape[1], 3), order='F')\n\n# Convert 3D numpy array to texture\ntex = vista.numpy_to_texture(image)\n\n# Render it!\ncurvsurf.plot(texture=tex)"
      ]
    },
    {
      "cell_type": "markdown",
      "metadata": {},
      "source": [
        "Repeating Textures\n++++++++++++++++++\n\nWhat if you have a single texture that you'd like to repeat across a mesh?\nSimply define the texture coordinates for all nodes explicitly.\n\n<div class=\"alert alert-danger\"><h4>Warning</h4><p>This example is not correct\n\n   Would you like to help us make this example better? Please consider opening a pull request</p></div>\n\nHere we create the texture coordinates to fill up the grid with several\nmappings of a single texture:\n\n"
      ]
    },
    {
      "cell_type": "code",
      "execution_count": null,
      "metadata": {
        "collapsed": false
      },
      "outputs": [],
      "source": [
        "axial_num_puppies = 4\ndx = curvsurf.dimensions[0] // axial_num_puppies\ndy = curvsurf.dimensions[1] // axial_num_puppies\n\nxc = np.full((axial_num_puppies, dx), np.linspace(0, 1, dx))\nyc = np.full((axial_num_puppies, dy), np.linspace(0, 1, dy))\n\nxxc, yyc = np.meshgrid(xc, yc)\npuppy_coords = np.c_[yyc.ravel(), xxc.ravel()]"
      ]
    },
    {
      "cell_type": "markdown",
      "metadata": {},
      "source": [
        "Then we must associate those texture coordinates with the mesh through the\n:attr:`vista.Common.t_coords` property.\n\n"
      ]
    },
    {
      "cell_type": "code",
      "execution_count": null,
      "metadata": {
        "collapsed": false
      },
      "outputs": [],
      "source": [
        "curvsurf.t_coords = puppy_coords"
      ]
    },
    {
      "cell_type": "markdown",
      "metadata": {},
      "source": [
        "Now display all the puppies!\n\n"
      ]
    },
    {
      "cell_type": "code",
      "execution_count": null,
      "metadata": {
        "collapsed": false
      },
      "outputs": [],
      "source": [
        "# use the puppy image\ntex = examples.download_puppy_texture()\ncurvsurf.plot(texture=tex, cpos='yx')"
      ]
    }
  ],
  "metadata": {
    "kernelspec": {
      "display_name": "Python 3",
      "language": "python",
      "name": "python3"
    },
    "language_info": {
      "codemirror_mode": {
        "name": "ipython",
        "version": 3
      },
      "file_extension": ".py",
      "mimetype": "text/x-python",
      "name": "python",
      "nbconvert_exporter": "python",
      "pygments_lexer": "ipython3",
      "version": "3.7.1"
    }
  },
  "nbformat": 4,
  "nbformat_minor": 0
}