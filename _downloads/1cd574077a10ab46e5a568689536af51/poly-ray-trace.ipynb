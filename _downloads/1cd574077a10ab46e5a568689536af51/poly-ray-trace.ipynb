{
  "nbformat_minor": 0,
  "metadata": {
    "kernelspec": {
      "language": "python",
      "name": "python3",
      "display_name": "Python 3"
    },
    "language_info": {
      "name": "python",
      "version": "3.5.6",
      "mimetype": "text/x-python",
      "codemirror_mode": {
        "name": "ipython",
        "version": 3
      },
      "nbconvert_exporter": "python",
      "pygments_lexer": "ipython3",
      "file_extension": ".py"
    }
  },
  "nbformat": 4,
  "cells": [
    {
      "outputs": [],
      "execution_count": null,
      "metadata": {
        "collapsed": false
      },
      "cell_type": "code",
      "source": [
        "%matplotlib inline"
      ]
    },
    {
      "metadata": {},
      "cell_type": "markdown",
      "source": [
        "\nRay Tracing\n~~~~~~~~~~~\n\nSingle line segment ray tracing for PolyData objects.\n\n"
      ]
    },
    {
      "outputs": [],
      "execution_count": null,
      "metadata": {
        "collapsed": false
      },
      "cell_type": "code",
      "source": [
        "import vtki\n\n# Create source to ray trace\nsphere = vtki.Sphere(radius=0.85)\n\n# Define line segment\nstart = [0, 0, 0]\nstop = [0.25, 1, 0.5]\n\n# Perfrom ray trace\npoints, ind = sphere.ray_trace(start, stop)\n\n# Create geometry to represent ray trace\nray = vtki.Line(start, stop)\nintersection = vtki.PolyData(points)\n\n# Render the result\np = vtki.Plotter()\np.add_mesh(sphere, show_edges=True, opacity=0.5, color='w', lighting=False, label='Test Mesh')\np.add_mesh(ray, color='blue', line_width=5, label='Ray Segment')\np.add_mesh(intersection, color='maroon', point_size=10, label='Intersection Points')\np.add_legend()\np.show()"
      ]
    }
  ]
}