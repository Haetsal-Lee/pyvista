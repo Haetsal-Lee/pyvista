{
  "cells": [
    {
      "cell_type": "code",
      "execution_count": null,
      "outputs": [],
      "metadata": {
        "collapsed": false
      },
      "source": [
        "%matplotlib inline"
      ]
    },
    {
      "cell_type": "markdown",
      "source": [
        "\nRay Tracing\n~~~~~~~~~~~\n\nSingle line segment ray tracing for PolyData objects.\n\n"
      ],
      "metadata": {}
    },
    {
      "cell_type": "code",
      "execution_count": null,
      "outputs": [],
      "metadata": {
        "collapsed": false
      },
      "source": [
        "import vtki\n\n# Create source to ray trace\nsphere = vtki.Sphere(radius=0.85)\n\n# Define line segment\nstart = [0, 0, 0]\nstop = [0.25, 1, 0.5]\n\n# Perfrom ray trace\npoints, ind = sphere.ray_trace(start, stop)\n\n# Create geometry to represent ray trace\nray = vtki.Line(start, stop)\nintersection = vtki.PolyData(points)\n\n# Render the result\np = vtki.Plotter()\np.add_mesh(sphere, show_edges=True, opacity=0.5, color='w', lighting=False, label='Test Mesh')\np.add_mesh(ray, color='blue', line_width=5, label='Ray Segment')\np.add_mesh(intersection, color='maroon', point_size=10, label='Intersection Points')\np.add_legend()\np.show()"
      ]
    }
  ],
  "nbformat": 4,
  "metadata": {
    "kernelspec": {
      "language": "python",
      "display_name": "Python 3",
      "name": "python3"
    },
    "language_info": {
      "nbconvert_exporter": "python",
      "codemirror_mode": {
        "version": 3,
        "name": "ipython"
      },
      "pygments_lexer": "ipython3",
      "file_extension": ".py",
      "version": "3.5.6",
      "mimetype": "text/x-python",
      "name": "python"
    }
  },
  "nbformat_minor": 0
}