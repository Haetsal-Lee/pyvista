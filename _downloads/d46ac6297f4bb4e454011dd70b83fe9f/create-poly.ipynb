{
  "nbformat_minor": 0,
  "metadata": {
    "kernelspec": {
      "language": "python",
      "name": "python3",
      "display_name": "Python 3"
    },
    "language_info": {
      "name": "python",
      "version": "3.5.6",
      "mimetype": "text/x-python",
      "codemirror_mode": {
        "name": "ipython",
        "version": 3
      },
      "nbconvert_exporter": "python",
      "pygments_lexer": "ipython3",
      "file_extension": ".py"
    }
  },
  "nbformat": 4,
  "cells": [
    {
      "outputs": [],
      "execution_count": null,
      "metadata": {
        "collapsed": false
      },
      "cell_type": "code",
      "source": [
        "%matplotlib inline"
      ]
    },
    {
      "metadata": {},
      "cell_type": "markdown",
      "metadata": {},
      "source": [
        "\n\nCreate PolyData\n~~~~~~~~~~~~~~~\n\nCreating a PolyData object from NumPy arrays\n\n\n"
      ]
    },
    {
      "outputs": [],
      "execution_count": null,
      "metadata": {
        "collapsed": false
      },
      "cell_type": "code",
      "source": [
        "import numpy as np\nimport vtki"
      ]
    },
    {
      "metadata": {},
      "cell_type": "markdown",
      "metadata": {},
      "source": [
        "A PolyData object can be created quickly from numpy arrays.  The vertex array\ncontains the locations of the points of the mesh and the face array contains the\nnumber of points for each face and the indices of each of those faces.\n\n"
      ]
    },
    {
      "outputs": [],
      "execution_count": null,
      "metadata": {
        "collapsed": false
      },
      "cell_type": "code",
      "source": [
        "# mesh points\nvertices = np.array([[0, 0, 0],\n                     [1, 0, 0],\n                     [1, 1, 0],\n                     [0, 1, 0],\n\t\t [0.5, 0.5, -1]])\n\n# mesh faces\nfaces = np.hstack([[4, 0, 1, 2, 3],  # square\n                   [3, 0, 1, 4],     # triangle\n                   [3, 1, 2, 4]])    # triangle\n\nsurf = vtki.PolyData(vertices, faces)\n\n# plot each face with a different color\nsurf.plot(scalars=np.arange(3), cpos=[-1,1,0.5])"
      ]
    }
  ],
  "metadata": {
    "kernelspec": {
      "display_name": "Python 3",
      "language": "python",
      "name": "python3"
    },
    "language_info": {
      "codemirror_mode": {
        "name": "ipython",
        "version": 3
      },
      "file_extension": ".py",
      "mimetype": "text/x-python",
      "name": "python",
      "nbconvert_exporter": "python",
      "pygments_lexer": "ipython3",
      "version": "3.6.7"
    }
  },
  "nbformat": 4,
  "nbformat_minor": 0
}