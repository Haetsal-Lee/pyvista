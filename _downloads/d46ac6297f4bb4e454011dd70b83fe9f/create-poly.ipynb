{
  "cells": [
    {
      "cell_type": "code",
      "execution_count": null,
      "outputs": [],
      "metadata": {
        "collapsed": false
      },
      "source": [
        "%matplotlib inline"
      ]
    },
    {
      "cell_type": "markdown",
      "source": [
        "\n\nCreate PolyData\n~~~~~~~~~~~~~~~\n\nCreating a PolyData object from NumPy arrays\n\n\n"
      ],
      "metadata": {}
    },
    {
      "cell_type": "code",
      "execution_count": null,
      "outputs": [],
      "metadata": {
        "collapsed": false
      },
      "source": [
        "import numpy as np\nimport vtki"
      ]
    },
    {
      "cell_type": "markdown",
      "source": [
        "A PolyData object can be created quickly from numpy arrays.  The vertex array\ncontains the locations of the points of the mesh and the face array contains the\nnumber of points for each face and the indices of each of those faces.\n\n"
      ],
      "metadata": {}
    },
    {
      "cell_type": "code",
      "execution_count": null,
      "outputs": [],
      "metadata": {
        "collapsed": false
      },
      "source": [
        "# mesh points\nvertices = np.array([[0, 0, 0],\n                     [1, 0, 0],\n                     [1, 1, 0],\n                     [0, 1, 0],\n\t\t [0.5, 0.5, -1]])\n\n# mesh faces\nfaces = np.hstack([[4, 0, 1, 2, 3],  # square\n                   [3, 0, 1, 4],     # triangle\n                   [3, 1, 2, 4]])    # triangle\n\nsurf = vtki.PolyData(vertices, faces)\n\n# plot each face with a different color\nsurf.plot(scalars=np.arange(3), cpos=[-1,1,0.5])"
      ]
    }
  ],
  "nbformat": 4,
  "metadata": {
    "kernelspec": {
      "language": "python",
      "display_name": "Python 3",
      "name": "python3"
    },
    "language_info": {
      "nbconvert_exporter": "python",
      "codemirror_mode": {
        "version": 3,
        "name": "ipython"
      },
      "pygments_lexer": "ipython3",
      "file_extension": ".py",
      "version": "3.5.6",
      "mimetype": "text/x-python",
      "name": "python"
    }
  },
  "nbformat_minor": 0
}