{
  "nbformat_minor": 0,
  "metadata": {
    "kernelspec": {
      "language": "python",
      "name": "python3",
      "display_name": "Python 3"
    },
    "language_info": {
      "name": "python",
      "version": "3.5.6",
      "mimetype": "text/x-python",
      "codemirror_mode": {
        "name": "ipython",
        "version": 3
      },
      "nbconvert_exporter": "python",
      "pygments_lexer": "ipython3",
      "file_extension": ".py"
    }
  },
  "nbformat": 4,
  "cells": [
    {
      "outputs": [],
      "execution_count": null,
      "metadata": {
        "collapsed": false
      },
      "cell_type": "code",
      "source": [
        "%matplotlib inline"
      ]
    },
    {
      "metadata": {},
      "cell_type": "markdown",
      "metadata": {},
      "source": [
        "\nComputing Surface Normals\n~~~~~~~~~~~~~~~~~~~~~~~~~\n\n\nCompute normals on a surface.\n\n"
      ]
    },
    {
      "outputs": [],
      "execution_count": null,
      "metadata": {
        "collapsed": false
      },
      "cell_type": "code",
      "source": [
        "# sphinx_gallery_thumbnail_number = 2\nimport vtki\nfrom vtki import examples"
      ]
    },
    {
      "metadata": {},
      "cell_type": "markdown",
      "metadata": {},
      "source": [
        "Computing the normals of a surace is quite easy using :class:`vtki.PolyData`'s\n``compute_normals`` method\n\n"
      ]
    },
    {
      "outputs": [],
      "execution_count": null,
      "metadata": {
        "collapsed": false
      },
      "cell_type": "code",
      "source": [
        "mesh = examples.download_topo_global()\nmesh.plot(cmap='gist_earth', show_scalar_bar=False)"
      ]
    },
    {
      "metadata": {},
      "cell_type": "markdown",
      "metadata": {},
      "source": [
        "Now we have a surface dataset of the globe loaded - unfortunately, the dataset\nshows the globe with a uniform radius which hides topographic releif.\nUsing :func:`vtki.PolyData.compute_normals`, we can compute the normal vectors\non the globe at all points in the dataset, then use the values given in the\ndataset to warp the surface in the normals direction to create some\nexaggerated topographic relief.\n\n"
      ]
    },
    {
      "outputs": [],
      "execution_count": null,
      "metadata": {
        "collapsed": false
      },
      "cell_type": "code",
      "source": [
        "# Compute the normals in-place and use them to warp the globe\nmesh.compute_normals() # this activates the normals as well\n\n# Now use those normals to warp the surface\nwarp = mesh.warp_by_scalar(scale_factor=0.5e-5)\n\n# And let's see it!\nwarp.plot(cmap='gist_earth', show_scalar_bar=False)"
      ]
    }
  ]
}