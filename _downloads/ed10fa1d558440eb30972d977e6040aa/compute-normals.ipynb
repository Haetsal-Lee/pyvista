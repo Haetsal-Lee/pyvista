{
  "cells": [
    {
      "cell_type": "code",
      "execution_count": null,
      "outputs": [],
      "metadata": {
        "collapsed": false
      },
      "source": [
        "%matplotlib inline"
      ]
    },
    {
      "cell_type": "markdown",
      "source": [
        "\nComputing Surface Normals\n~~~~~~~~~~~~~~~~~~~~~~~~~\n\n\nCompute normals on a surface.\n\n"
      ],
      "metadata": {}
    },
    {
      "cell_type": "code",
      "execution_count": null,
      "outputs": [],
      "metadata": {
        "collapsed": false
      },
      "source": [
        "# sphinx_gallery_thumbnail_number = 2\nimport vtki\nfrom vtki import examples"
      ]
    },
    {
      "cell_type": "markdown",
      "source": [
        "Computing the normals of a surace is quite easy using :class:`vtki.PolyData`'s\n``compute_normals`` method\n\n"
      ],
      "metadata": {}
    },
    {
      "cell_type": "code",
      "execution_count": null,
      "outputs": [],
      "metadata": {
        "collapsed": false
      },
      "source": [
        "mesh = examples.download_topo_global()\nmesh.plot(cmap='gist_earth', show_scalar_bar=False)"
      ]
    },
    {
      "cell_type": "markdown",
      "source": [
        "Now we have a surface dataset of the globe loaded - unfortunately, the dataset\nshows the globe with a uniform radius which hides topographic releif.\nUsing :func:`vtki.PolyData.compute_normals`, we can compute the normal vectors\non the globe at all points in the dataset, then use the values given in the\ndataset to warp the surface in the normals direction to create some\nexaggerated topographic relief.\n\n"
      ],
      "metadata": {}
    },
    {
      "cell_type": "code",
      "execution_count": null,
      "outputs": [],
      "metadata": {
        "collapsed": false
      },
      "source": [
        "# Compute the normals in-place and use them to warp the globe\nmesh.compute_normals() # this activates the normals as well\n\n# Now use those normals to warp the surface\nwarp = mesh.warp_by_scalar(scale_factor=0.5e-5)\n\n# And let's see it!\nwarp.plot(cmap='gist_earth', show_scalar_bar=False)"
      ]
    }
  ],
  "nbformat": 4,
  "metadata": {
    "kernelspec": {
      "language": "python",
      "display_name": "Python 3",
      "name": "python3"
    },
    "language_info": {
      "nbconvert_exporter": "python",
      "codemirror_mode": {
        "version": 3,
        "name": "ipython"
      },
      "pygments_lexer": "ipython3",
      "file_extension": ".py",
      "version": "3.5.6",
      "mimetype": "text/x-python",
      "name": "python"
    }
  },
  "nbformat_minor": 0
}