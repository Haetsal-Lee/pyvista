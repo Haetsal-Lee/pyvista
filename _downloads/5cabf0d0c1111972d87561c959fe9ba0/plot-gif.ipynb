{
  "cells": [
    {
      "cell_type": "code",
      "execution_count": null,
      "outputs": [],
      "metadata": {
        "collapsed": false
      },
      "source": [
        "%matplotlib inline"
      ]
    },
    {
      "cell_type": "markdown",
      "source": [
        "\nCreate a GIF Movie\n~~~~~~~~~~~~~~~~~~\n\nGenerate a moving gif from an active plotter\n\n"
      ],
      "metadata": {}
    },
    {
      "cell_type": "code",
      "execution_count": null,
      "outputs": [],
      "metadata": {
        "collapsed": false
      },
      "source": [
        "import vtki\nimport numpy as np\n\nx = np.arange(-10, 10, 0.25)\ny = np.arange(-10, 10, 0.25)\nx, y = np.meshgrid(x, y)\nr = np.sqrt(x**2 + y**2)\nz = np.sin(r)\n\n# Create and structured surface\ngrid = vtki.StructuredGrid(x, y, z)\n\n# Creat a plotter object and set the scalars to the Z height\nplotter = vtki.Plotter()\nplotter.add_mesh(grid, scalars=z.ravel())\n\n# setup camera and close\nplotter.plot(auto_close=False)\n\n# Open a gif\nplotter.open_gif('wave.gif')\n\npts = grid.points.copy()\n\n# Update Z and write a frame for each updated position\nnframe = 15\nfor phase in np.linspace(0, 2*np.pi, nframe + 1)[:nframe]:\n    z = np.sin(r + phase)\n    pts[:, -1] = z.ravel()\n    plotter.update_coordinates(pts)\n    plotter.update_scalars(z.ravel())\n    plotter.write_frame()\n\n# Close movie and delete object\nplotter.close()"
      ]
    }
  ],
  "nbformat": 4,
  "metadata": {
    "kernelspec": {
      "language": "python",
      "display_name": "Python 3",
      "name": "python3"
    },
    "language_info": {
      "nbconvert_exporter": "python",
      "codemirror_mode": {
        "version": 3,
        "name": "ipython"
      },
      "pygments_lexer": "ipython3",
      "file_extension": ".py",
      "version": "3.5.6",
      "mimetype": "text/x-python",
      "name": "python"
    }
  },
  "nbformat_minor": 0
}