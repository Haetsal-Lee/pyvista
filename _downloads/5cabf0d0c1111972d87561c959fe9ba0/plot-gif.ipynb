{
  "nbformat_minor": 0,
  "metadata": {
    "kernelspec": {
      "language": "python",
      "name": "python3",
      "display_name": "Python 3"
    },
    "language_info": {
      "name": "python",
      "version": "3.5.6",
      "mimetype": "text/x-python",
      "codemirror_mode": {
        "name": "ipython",
        "version": 3
      },
      "nbconvert_exporter": "python",
      "pygments_lexer": "ipython3",
      "file_extension": ".py"
    }
  },
  "nbformat": 4,
  "cells": [
    {
      "outputs": [],
      "execution_count": null,
      "metadata": {
        "collapsed": false
      },
      "cell_type": "code",
      "source": [
        "%matplotlib inline"
      ]
    },
    {
      "metadata": {},
      "cell_type": "markdown",
      "source": [
        "\nCreate a GIF Movie\n~~~~~~~~~~~~~~~~~~\n\nGenerate a moving gif from an active plotter\n\n"
      ]
    },
    {
      "outputs": [],
      "execution_count": null,
      "metadata": {
        "collapsed": false
      },
      "cell_type": "code",
      "source": [
        "import vtki\nimport numpy as np\n\nx = np.arange(-10, 10, 0.25)\ny = np.arange(-10, 10, 0.25)\nx, y = np.meshgrid(x, y)\nr = np.sqrt(x**2 + y**2)\nz = np.sin(r)\n\n# Create and structured surface\ngrid = vtki.StructuredGrid(x, y, z)\n\n# Creat a plotter object and set the scalars to the Z height\nplotter = vtki.Plotter()\nplotter.add_mesh(grid, scalars=z.ravel())\n\n# setup camera and close\nplotter.plot(auto_close=False)\n\n# Open a gif\nplotter.open_gif('wave.gif')\n\npts = grid.points.copy()\n\n# Update Z and write a frame for each updated position\nnframe = 15\nfor phase in np.linspace(0, 2*np.pi, nframe + 1)[:nframe]:\n    z = np.sin(r + phase)\n    pts[:, -1] = z.ravel()\n    plotter.update_coordinates(pts)\n    plotter.update_scalars(z.ravel())\n    plotter.write_frame()\n\n# Close movie and delete object\nplotter.close()"
      ]
    }
  ]
}