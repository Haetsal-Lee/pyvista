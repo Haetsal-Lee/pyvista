{
  "cells": [
    {
      "cell_type": "code",
      "execution_count": null,
      "outputs": [],
      "metadata": {
        "collapsed": false
      },
      "source": [
        "%matplotlib inline"
      ]
    },
    {
      "cell_type": "markdown",
      "source": [
        "\nCustom Colormaps\n~~~~~~~~~~~~~~~~\n\nUse a custom built colormap when plotting scalar values.\n\n"
      ],
      "metadata": {}
    },
    {
      "cell_type": "code",
      "execution_count": null,
      "outputs": [],
      "metadata": {
        "collapsed": false
      },
      "source": [
        "import vtki\nfrom vtki import examples\nimport matplotlib.pyplot as plt"
      ]
    },
    {
      "cell_type": "markdown",
      "source": [
        "Any colormap built for ``matplotlib`` is fully compatible with ``vtki``.\nColormaps are typically specifiedby passing the string name of the\n``matplotlib`` colormap to the plotting routine via the ``cmap`` argument.\n\nSee `this page`_ for a complete list of available colormaps.\n\n\nTo get started using a custom colormap, download some data with scalars to\nplot.\n\n"
      ],
      "metadata": {}
    },
    {
      "cell_type": "code",
      "execution_count": null,
      "outputs": [],
      "metadata": {
        "collapsed": false
      },
      "source": [
        "mesh = examples.download_st_helens().warp_by_scalar()"
      ]
    },
    {
      "cell_type": "markdown",
      "source": [
        "Build a custom colormap - here we just make a viridis map with 5 discrete\ncolors, but you could make this as complex or simple as you desire.\n\n"
      ],
      "metadata": {}
    },
    {
      "cell_type": "code",
      "execution_count": null,
      "outputs": [],
      "metadata": {
        "collapsed": false
      },
      "source": [
        "cmap = plt.cm.get_cmap('viridis', 5)"
      ]
    },
    {
      "cell_type": "markdown",
      "source": [
        "Simply pass the colormap to the plotting routine!\n\n"
      ],
      "metadata": {}
    },
    {
      "cell_type": "code",
      "execution_count": null,
      "outputs": [],
      "metadata": {
        "collapsed": false
      },
      "source": [
        "mesh.plot(cmap=cmap, cpos='xy')"
      ]
    }
  ],
  "nbformat": 4,
  "metadata": {
    "kernelspec": {
      "language": "python",
      "display_name": "Python 3",
      "name": "python3"
    },
    "language_info": {
      "nbconvert_exporter": "python",
      "codemirror_mode": {
        "version": 3,
        "name": "ipython"
      },
      "pygments_lexer": "ipython3",
      "file_extension": ".py",
      "version": "3.5.6",
      "mimetype": "text/x-python",
      "name": "python"
    }
  },
  "nbformat_minor": 0
}