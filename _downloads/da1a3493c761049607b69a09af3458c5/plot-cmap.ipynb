{
  "nbformat_minor": 0,
  "metadata": {
    "kernelspec": {
      "language": "python",
      "name": "python3",
      "display_name": "Python 3"
    },
    "language_info": {
      "name": "python",
      "version": "3.5.6",
      "mimetype": "text/x-python",
      "codemirror_mode": {
        "name": "ipython",
        "version": 3
      },
      "nbconvert_exporter": "python",
      "pygments_lexer": "ipython3",
      "file_extension": ".py"
    }
  },
  "nbformat": 4,
  "cells": [
    {
      "outputs": [],
      "execution_count": null,
      "metadata": {
        "collapsed": false
      },
      "cell_type": "code",
      "source": [
        "%matplotlib inline"
      ]
    },
    {
      "metadata": {},
      "cell_type": "markdown",
      "source": [
        "\nCustom Colormaps\n~~~~~~~~~~~~~~~~\n\nUse a custom built colormap when plotting scalar values.\n\n"
      ]
    },
    {
      "outputs": [],
      "execution_count": null,
      "metadata": {
        "collapsed": false
      },
      "cell_type": "code",
      "source": [
        "import vtki\nfrom vtki import examples\nimport matplotlib.pyplot as plt"
      ]
    },
    {
      "metadata": {},
      "cell_type": "markdown",
      "source": [
        "Any colormap built for ``matplotlib`` is fully compatible with ``vtki``.\nColormaps are typically specifiedby passing the string name of the\n``matplotlib`` colormap to the plotting routine via the ``cmap`` argument.\n\nSee `this page`_ for a complete list of available colormaps.\n\n\nTo get started using a custom colormap, download some data with scalars to\nplot.\n\n"
      ]
    },
    {
      "outputs": [],
      "execution_count": null,
      "metadata": {
        "collapsed": false
      },
      "cell_type": "code",
      "source": [
        "mesh = examples.download_st_helens().warp_by_scalar()"
      ]
    },
    {
      "metadata": {},
      "cell_type": "markdown",
      "source": [
        "Build a custom colormap - here we just make a viridis map with 5 discrete\ncolors, but you could make this as complex or simple as you desire.\n\n"
      ]
    },
    {
      "outputs": [],
      "execution_count": null,
      "metadata": {
        "collapsed": false
      },
      "cell_type": "code",
      "source": [
        "cmap = plt.cm.get_cmap('viridis', 5)"
      ]
    },
    {
      "metadata": {},
      "cell_type": "markdown",
      "source": [
        "Simply pass the colormap to the plotting routine!\n\n"
      ]
    },
    {
      "outputs": [],
      "execution_count": null,
      "metadata": {
        "collapsed": false
      },
      "cell_type": "code",
      "source": [
        "mesh.plot(cmap=cmap, cpos='xy')"
      ]
    }
  ]
}