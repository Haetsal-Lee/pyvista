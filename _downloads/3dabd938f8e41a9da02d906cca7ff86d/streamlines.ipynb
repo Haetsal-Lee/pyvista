{
  "cells": [
    {
      "cell_type": "code",
      "execution_count": null,
      "metadata": {
        "collapsed": false
      },
      "outputs": [],
      "source": [
        "%matplotlib inline"
      ]
    },
    {
      "cell_type": "markdown",
      "metadata": {},
      "source": [
        "\nStreamlines\n~~~~~~~~~~~\n\nIntegrate a vector field to generate streamlines.\n"
      ]
    },
    {
      "cell_type": "markdown",
      "metadata": {},
      "source": [
        "This example generates streamlines of blood velocity. An isosurface of speed\nprovides context. The starting positions for the streamtubes were determined\nby experimenting with the data.\n\n"
      ]
    },
    {
      "cell_type": "code",
      "execution_count": null,
      "metadata": {
        "collapsed": false
      },
      "outputs": [],
      "source": [
        "# sphinx_gallery_thumbnail_number = 3\nimport vtki\nfrom vtki import examples"
      ]
    },
    {
      "cell_type": "markdown",
      "metadata": {},
      "source": [
        "Carotid\n+++++++\nDownload a sample dataset containing a vector field that can be integrated.\n\n"
      ]
    },
    {
      "cell_type": "code",
      "execution_count": null,
      "metadata": {
        "collapsed": false
      },
      "outputs": [],
      "source": [
        "mesh = examples.download_carotid()"
      ]
    },
    {
      "cell_type": "markdown",
      "metadata": {},
      "source": [
        "Run the stream line filtering algorithm.\n\n"
      ]
    },
    {
      "cell_type": "code",
      "execution_count": null,
      "metadata": {
        "collapsed": false
      },
      "outputs": [],
      "source": [
        "streamlines, src = mesh.streamlines(return_source=True, max_time=100.0,\n                           initial_step_length=2., terminal_speed=0.1,\n                           n_points=25, source_radius=2.0,\n                           source_center=(133.1, 116.3, 5.0) )"
      ]
    },
    {
      "cell_type": "markdown",
      "metadata": {},
      "source": [
        "Display the results! Please note that because this dataset's velocity field\nwas measured with low resolution, many streamlines travel outside the artery.\n\n"
      ]
    },
    {
      "cell_type": "code",
      "execution_count": null,
      "metadata": {
        "collapsed": false
      },
      "outputs": [],
      "source": [
        "p = vtki.Plotter()\np.add_mesh(mesh.outline(), color='k')\np.add_mesh(streamlines.tube(radius=0.15))\np.add_mesh(src)\np.add_mesh(mesh.contour([160]).wireframe(),\n           color='grey', opacity=0.25)\np.camera_position = [(182., 177., 50),\n                     (139, 105, 19),\n                     (-0.2, -0.2, 1)]\np.show()"
      ]
    },
    {
      "cell_type": "markdown",
      "metadata": {},
      "source": [
        "Blood Vessels\n+++++++++++++\nHere is another example of blood flow:\n\n"
      ]
    },
    {
      "cell_type": "code",
      "execution_count": null,
      "metadata": {
        "collapsed": false
      },
      "outputs": [],
      "source": [
        "mesh = examples.download_blood_vessels().cell_data_to_point_data()\nmesh.set_active_scalar('velocity')\nstreamlines, src = mesh.streamlines(return_source=True, source_radius=10,\n                           source_center=(92.46, 74.37, 135.5) ,)"
      ]
    },
    {
      "cell_type": "code",
      "execution_count": null,
      "metadata": {
        "collapsed": false
      },
      "outputs": [],
      "source": [
        "boundary = mesh.decimate_boundary().wireframe()\n\np = vtki.Plotter()\np.add_mesh(streamlines.tube(radius=0.2), ligthing=False)\np.add_mesh(src)\np.add_mesh(boundary, color='grey', opacity=0.25)\np.camera_position = [(10, 9.5, -43),\n                     (87.0, 73.5, 123.0),\n                     (-0.5, -0.7, 0.5)]\np.show()"
      ]
    },
    {
      "cell_type": "markdown",
      "metadata": {},
      "source": [
        "Kitchen\n+++++++\n\n\n"
      ]
    },
    {
      "cell_type": "code",
      "execution_count": null,
      "metadata": {
        "collapsed": false
      },
      "outputs": [],
      "source": [
        "kpos = [(-6.68, 11.9, 11.6),\n        (3.5, 2.5, 1.26),\n        (0.45, -0.4, 0.8)]\n\nmesh = examples.download_kitchen()\nkitchen = examples.download_kitchen(split=True)"
      ]
    },
    {
      "cell_type": "code",
      "execution_count": null,
      "metadata": {
        "collapsed": false
      },
      "outputs": [],
      "source": [
        "streamlines = mesh.streamlines(n_points=40,\n                               source_center=(0.08, 3, 0.71))"
      ]
    },
    {
      "cell_type": "code",
      "execution_count": null,
      "metadata": {
        "collapsed": false
      },
      "outputs": [],
      "source": [
        "p = vtki.Plotter()\np.add_mesh(mesh.outline(), color='k')\np.add_mesh(kitchen, color=True)\np.add_mesh(streamlines.tube(radius=0.01), scalars='velocity', lighting=False)\np.camera_position = kpos\np.show()"
      ]
    }
  ],
  "metadata": {
    "kernelspec": {
      "display_name": "Python 3",
      "language": "python",
      "name": "python3"
    },
    "language_info": {
      "codemirror_mode": {
        "name": "ipython",
        "version": 3
      },
      "file_extension": ".py",
      "mimetype": "text/x-python",
      "name": "python",
      "nbconvert_exporter": "python",
      "pygments_lexer": "ipython3",
      "version": "3.7.1"
    }
  },
  "nbformat": 4,
  "nbformat_minor": 0
}