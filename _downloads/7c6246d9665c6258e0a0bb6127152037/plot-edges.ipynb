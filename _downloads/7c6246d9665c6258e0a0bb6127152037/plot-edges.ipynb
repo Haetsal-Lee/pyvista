{
  "cells": [
    {
      "cell_type": "code",
      "execution_count": null,
      "outputs": [],
      "metadata": {
        "collapsed": false
      },
      "source": [
        "%matplotlib inline"
      ]
    },
    {
      "cell_type": "markdown",
      "source": [
        "\nShow Edges\n~~~~~~~~~~\n\nShow the edges of all geometries within a mesh\n\n"
      ],
      "metadata": {}
    },
    {
      "cell_type": "markdown",
      "source": [
        "Sometimes it can be useful to show all of the edges of a mesh when rendering\nto communicate aspects of the dataset like resolution.\n\nShowing the edges for any rendered dataset is a simple as specifying the\nthe ``show_edges`` keyword argument to ``True`` when plotting a dataset.\n\n"
      ],
      "metadata": {}
    },
    {
      "cell_type": "code",
      "execution_count": null,
      "outputs": [],
      "metadata": {
        "collapsed": false
      },
      "source": [
        "# sphinx_gallery_thumbnail_number = 1\nimport vtki\nfrom vtki import examples\n\nnefertiti = examples.download_nefertiti()\n\n# Camera position to zoom to face\nface_view = [(194.57658338658473, -327.5539184202715, 28.106692235139377),\n             (-10.46795453395034, -67.33281919301498, -19.938084799559192),\n             (-0.05444711191580967, 0.13964269728441056, 0.9887039137674948)]\n\n\nnefertiti.plot(cpos=face_view, show_edges=True)"
      ]
    }
  ],
  "nbformat": 4,
  "metadata": {
    "kernelspec": {
      "language": "python",
      "display_name": "Python 3",
      "name": "python3"
    },
    "language_info": {
      "nbconvert_exporter": "python",
      "codemirror_mode": {
        "version": 3,
        "name": "ipython"
      },
      "pygments_lexer": "ipython3",
      "file_extension": ".py",
      "version": "3.5.6",
      "mimetype": "text/x-python",
      "name": "python"
    }
  },
  "nbformat_minor": 0
}