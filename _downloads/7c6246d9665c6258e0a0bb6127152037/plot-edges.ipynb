{
  "nbformat_minor": 0,
  "metadata": {
    "kernelspec": {
      "language": "python",
      "name": "python3",
      "display_name": "Python 3"
    },
    "language_info": {
      "name": "python",
      "version": "3.5.6",
      "mimetype": "text/x-python",
      "codemirror_mode": {
        "name": "ipython",
        "version": 3
      },
      "nbconvert_exporter": "python",
      "pygments_lexer": "ipython3",
      "file_extension": ".py"
    }
  },
  "nbformat": 4,
  "cells": [
    {
      "outputs": [],
      "execution_count": null,
      "metadata": {
        "collapsed": false
      },
      "cell_type": "code",
      "source": [
        "%matplotlib inline"
      ]
    },
    {
      "metadata": {},
      "cell_type": "markdown",
      "source": [
        "\nShow Edges\n~~~~~~~~~~\n\nShow the edges of all geometries within a mesh\n\n"
      ]
    },
    {
      "metadata": {},
      "cell_type": "markdown",
      "source": [
        "Sometimes it can be useful to show all of the edges of a mesh when rendering\nto communicate aspects of the dataset like resolution.\n\nShowing the edges for any rendered dataset is a simple as specifying the\nthe ``show_edges`` keyword argument to ``True`` when plotting a dataset.\n\n"
      ]
    },
    {
      "outputs": [],
      "execution_count": null,
      "metadata": {
        "collapsed": false
      },
      "cell_type": "code",
      "source": [
        "# sphinx_gallery_thumbnail_number = 1\nimport vtki\nfrom vtki import examples\n\nnefertiti = examples.download_nefertiti()\n\n# Camera position to zoom to face\nface_view = [(194.57658338658473, -327.5539184202715, 28.106692235139377),\n             (-10.46795453395034, -67.33281919301498, -19.938084799559192),\n             (-0.05444711191580967, 0.13964269728441056, 0.9887039137674948)]\n\n\nnefertiti.plot(cpos=face_view, show_edges=True)"
      ]
    }
  ]
}