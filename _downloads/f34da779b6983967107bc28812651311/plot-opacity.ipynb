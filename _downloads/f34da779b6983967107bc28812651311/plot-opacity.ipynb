{
  "cells": [
    {
      "cell_type": "code",
      "execution_count": null,
      "outputs": [],
      "metadata": {
        "collapsed": false
      },
      "source": [
        "%matplotlib inline"
      ]
    },
    {
      "cell_type": "markdown",
      "source": [
        "\nPlot with Opacity\n~~~~~~~~~~~~~~~~~\n\nPlot a mesh's scalar array with an opacity trasfer funciton\n\n"
      ],
      "metadata": {}
    },
    {
      "cell_type": "code",
      "execution_count": null,
      "outputs": [],
      "metadata": {
        "collapsed": false
      },
      "source": [
        "import vtki\nfrom vtki import examples"
      ]
    },
    {
      "cell_type": "markdown",
      "source": [
        "It's possible to apply an opacity mapping to any scalar array plotted. You can\nspecify either a single static value to make the mesh opaque on all cells, or\nuse a transfer function where the scalar array plotted is mapped to the opacity.\n\nOpacity transfer function options are:\n\n- ``'linear'``: linearly vary (increase) opacity across the plotted scalar range from low to high\n- ``'linear_r'``: linearly vary (increase) opacity across the plotted scalar range from high to low\n- ``'geom'``: on a log scale, vary (increase) opacity across the plotted scalar range from low to high\n- ``'geom_r'``: on a log scale, vary (increase) opacity across the plotted scalar range from high to low\n\n"
      ],
      "metadata": {}
    },
    {
      "cell_type": "code",
      "execution_count": null,
      "outputs": [],
      "metadata": {
        "collapsed": false
      },
      "source": [
        "# Load St Helens DEM and warp the topography\nmesh = examples.download_st_helens().warp_by_scalar()\n\nmesh.plot(opacity='linear')"
      ]
    },
    {
      "cell_type": "markdown",
      "source": [
        "Opacity mapping is often useful when plotting DICOM images. For example,\ndownload the sample knee DICOM image:\n\n"
      ],
      "metadata": {}
    },
    {
      "cell_type": "code",
      "execution_count": null,
      "outputs": [],
      "metadata": {
        "collapsed": false
      },
      "source": [
        "knee = examples.download_knee()"
      ]
    },
    {
      "cell_type": "markdown",
      "source": [
        "And here we inspect the DICOM image with a few different colormaps and opacity\nmappings:\n\n"
      ],
      "metadata": {}
    },
    {
      "cell_type": "code",
      "execution_count": null,
      "outputs": [],
      "metadata": {
        "collapsed": false
      },
      "source": [
        "p = vtki.Plotter(shape=(2,2), border=False)\n\np.add_mesh(knee, cmap='bone', show_scalar_bar=0)\np.view_xy()\n\np.subplot(0,1)\np.add_mesh(knee, cmap='bone', opacity='linear', show_scalar_bar=0)\np.view_xy()\n\np.subplot(1,0)\np.add_mesh(knee, cmap='nipy_spectral', show_scalar_bar=0)\np.view_xy()\n\np.subplot(1,1)\np.add_mesh(knee, cmap='nipy_spectral', opacity='linear', show_scalar_bar=0)\np.view_xy()\n\np.show()"
      ]
    }
  ],
  "nbformat": 4,
  "metadata": {
    "kernelspec": {
      "language": "python",
      "display_name": "Python 3",
      "name": "python3"
    },
    "language_info": {
      "nbconvert_exporter": "python",
      "codemirror_mode": {
        "version": 3,
        "name": "ipython"
      },
      "pygments_lexer": "ipython3",
      "file_extension": ".py",
      "version": "3.5.6",
      "mimetype": "text/x-python",
      "name": "python"
    }
  },
  "nbformat_minor": 0
}