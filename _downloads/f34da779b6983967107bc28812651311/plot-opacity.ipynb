{
  "nbformat_minor": 0,
  "metadata": {
    "kernelspec": {
      "language": "python",
      "name": "python3",
      "display_name": "Python 3"
    },
    "language_info": {
      "name": "python",
      "version": "3.5.6",
      "mimetype": "text/x-python",
      "codemirror_mode": {
        "name": "ipython",
        "version": 3
      },
      "nbconvert_exporter": "python",
      "pygments_lexer": "ipython3",
      "file_extension": ".py"
    }
  },
  "nbformat": 4,
  "cells": [
    {
      "outputs": [],
      "execution_count": null,
      "metadata": {
        "collapsed": false
      },
      "cell_type": "code",
      "source": [
        "%matplotlib inline"
      ]
    },
    {
      "metadata": {},
      "cell_type": "markdown",
      "metadata": {},
      "source": [
        "\nPlot with Opacity\n~~~~~~~~~~~~~~~~~\n\nPlot a mesh's scalar array with an opacity trasfer funciton\n\n"
      ]
    },
    {
      "outputs": [],
      "execution_count": null,
      "metadata": {
        "collapsed": false
      },
      "cell_type": "code",
      "source": [
        "import vtki\nfrom vtki import examples"
      ]
    },
    {
      "metadata": {},
      "cell_type": "markdown",
      "metadata": {},
      "source": [
        "It's possible to apply an opacity mapping to any scalar array plotted. You can\nspecify either a single static value to make the mesh opaque on all cells, or\nuse a transfer function where the scalar array plotted is mapped to the opacity.\n\nOpacity transfer function options are:\n\n- ``'linear'``: linearly vary (increase) opacity across the plotted scalar range from low to high\n- ``'linear_r'``: linearly vary (increase) opacity across the plotted scalar range from high to low\n- ``'geom'``: on a log scale, vary (increase) opacity across the plotted scalar range from low to high\n- ``'geom_r'``: on a log scale, vary (increase) opacity across the plotted scalar range from high to low\n\n"
      ]
    },
    {
      "outputs": [],
      "execution_count": null,
      "metadata": {
        "collapsed": false
      },
      "cell_type": "code",
      "source": [
        "# Load St Helens DEM and warp the topography\nmesh = examples.download_st_helens().warp_by_scalar()\n\nmesh.plot(opacity='linear')"
      ]
    },
    {
      "metadata": {},
      "cell_type": "markdown",
      "metadata": {},
      "source": [
        "Opacity mapping is often useful when plotting DICOM images. For example,\ndownload the sample knee DICOM image:\n\n"
      ]
    },
    {
      "outputs": [],
      "execution_count": null,
      "metadata": {
        "collapsed": false
      },
      "cell_type": "code",
      "source": [
        "knee = examples.download_knee()"
      ]
    },
    {
      "metadata": {},
      "cell_type": "markdown",
      "metadata": {},
      "source": [
        "And here we inspect the DICOM image with a few different colormaps and opacity\nmappings:\n\n"
      ]
    },
    {
      "outputs": [],
      "execution_count": null,
      "metadata": {
        "collapsed": false
      },
      "cell_type": "code",
      "source": [
        "p = vtki.Plotter(shape=(2,2), border=False)\n\np.add_mesh(knee, cmap='bone', show_scalar_bar=0)\np.view_xy()\n\np.subplot(0,1)\np.add_mesh(knee, cmap='bone', opacity='linear', show_scalar_bar=0)\np.view_xy()\n\np.subplot(1,0)\np.add_mesh(knee, cmap='nipy_spectral', show_scalar_bar=0)\np.view_xy()\n\np.subplot(1,1)\np.add_mesh(knee, cmap='nipy_spectral', opacity='linear', show_scalar_bar=0)\np.view_xy()\n\np.show()"
      ]
    }
  ]
}