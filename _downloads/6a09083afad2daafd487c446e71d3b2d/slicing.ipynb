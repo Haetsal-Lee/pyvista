{
  "cells": [
    {
      "cell_type": "code",
      "execution_count": null,
      "outputs": [],
      "metadata": {
        "collapsed": false
      },
      "source": [
        "%matplotlib inline"
      ]
    },
    {
      "cell_type": "markdown",
      "source": [
        "\nSlicing\n~~~~~~~\n\nExtract thin planar slices from a volume\n\n"
      ],
      "metadata": {}
    },
    {
      "cell_type": "code",
      "execution_count": null,
      "outputs": [],
      "metadata": {
        "collapsed": false
      },
      "source": [
        "# sphinx_gallery_thumbnail_number = 2\nimport vtki\nfrom vtki import examples\nimport matplotlib.pyplot as plt"
      ]
    },
    {
      "cell_type": "markdown",
      "source": [
        "``vtki`` meshes have several slicing filters bound directly to all datasets.\nThes filters allow you to slice through a volumetric dataset to extract and\nview sections through the volume of data.\n\nOne of the most common slicing filters used in ``vtki`` is the\n:func:`vtki.DataSetFilters.slice_orthogonal` filter which creates three\northogonal slices through the dataset on the three caresian planes.\nFor example, let's slice through the sample geostatitical training image\nvolume. First, load up the volume and preview it:\n\n"
      ],
      "metadata": {}
    },
    {
      "cell_type": "code",
      "execution_count": null,
      "outputs": [],
      "metadata": {
        "collapsed": false
      },
      "source": [
        "mesh = examples.load_channels()\n# define a categorical colormap\ncmap = plt.cm.get_cmap('viridis', 4)\n\n\nmesh.plot(cmap=cmap)"
      ]
    },
    {
      "cell_type": "markdown",
      "source": [
        "Note that this dataset is a 3D volume and their might be regions within the\nvolume that we would like to inspect. We can create slices through the mesh\nto gain insight about the internals of the volume.\n\n"
      ],
      "metadata": {}
    },
    {
      "cell_type": "code",
      "execution_count": null,
      "outputs": [],
      "metadata": {
        "collapsed": false
      },
      "source": [
        "slices = mesh.slice_orthogonal()\n\nslices.plot(cmap=cmap)"
      ]
    },
    {
      "cell_type": "markdown",
      "source": [
        "The orthogonal slices can be easily translated throughout the volume:\n\n"
      ],
      "metadata": {}
    },
    {
      "cell_type": "code",
      "execution_count": null,
      "outputs": [],
      "metadata": {
        "collapsed": false
      },
      "source": [
        "slices = mesh.slice_orthogonal(x=20, y=20, z=30)\nslices.plot(cmap=cmap)"
      ]
    },
    {
      "cell_type": "markdown",
      "source": [
        "We can also add just a single slice of the volume by specifying the origin\nand normal of the slicing plane with the :func:`vtki.DataSetFilters.slice`\nfilter:\n\n"
      ],
      "metadata": {}
    },
    {
      "cell_type": "code",
      "execution_count": null,
      "outputs": [],
      "metadata": {
        "collapsed": false
      },
      "source": [
        "# Sing slice - origin defaults to center of the mesh\nsingle_slice = mesh.slice(normal=[1,1,0])\n\np = vtki.Plotter()\np.add_mesh(mesh.outline(), color='k')\np.add_mesh(single_slice, cmap=cmap)\np.show()"
      ]
    },
    {
      "cell_type": "markdown",
      "source": [
        "Adding slicing planes uniformly across an axial direction can also be\nautomated with the :func:`vtki.DataSetFilters.slice_along_axis` filter:\n\n"
      ],
      "metadata": {}
    },
    {
      "cell_type": "code",
      "execution_count": null,
      "outputs": [],
      "metadata": {
        "collapsed": false
      },
      "source": [
        "slices = mesh.slice_along_axis(n=7, axis='y')\n\nslices.plot(cmap=cmap)"
      ]
    }
  ],
  "nbformat": 4,
  "metadata": {
    "kernelspec": {
      "language": "python",
      "display_name": "Python 3",
      "name": "python3"
    },
    "language_info": {
      "nbconvert_exporter": "python",
      "codemirror_mode": {
        "version": 3,
        "name": "ipython"
      },
      "pygments_lexer": "ipython3",
      "file_extension": ".py",
      "version": "3.5.6",
      "mimetype": "text/x-python",
      "name": "python"
    }
  },
  "nbformat_minor": 0
}