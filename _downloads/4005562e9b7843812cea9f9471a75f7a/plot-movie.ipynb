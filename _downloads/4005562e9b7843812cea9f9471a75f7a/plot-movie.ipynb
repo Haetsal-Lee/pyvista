{
  "cells": [
    {
      "cell_type": "code",
      "execution_count": null,
      "outputs": [],
      "metadata": {
        "collapsed": false
      },
      "source": [
        "%matplotlib inline"
      ]
    },
    {
      "cell_type": "markdown",
      "source": [
        "\nCreate a MP4 Movie\n~~~~~~~~~~~~~~~~~~\n\nCreate an animated MP4 movie of a rendering scene\n\n"
      ],
      "metadata": {}
    },
    {
      "cell_type": "code",
      "execution_count": null,
      "outputs": [],
      "metadata": {
        "collapsed": false
      },
      "source": [
        "import vtki\nimport numpy as np\n\nfilename = 'sphere-shrinking.mp4'\n\nmesh = vtki.Sphere()\nmesh.cell_arrays['data'] = np.random.random(mesh.n_cells)\n\nplotter = vtki.Plotter()\n# Open a movie file\nplotter.open_movie(filename)\n\n# Add initial mesh\nplotter.add_mesh(mesh, scalars='data', clim=[0, 1])\n# Add outline for shrinking reference\nplotter.add_mesh(mesh.outline_corners())\n\n# Render and do NOT close\nplotter.plot(auto_close=False)\n\n# Run through each frame\nplotter.write_frame() # write initial data\n\n# Update scalars on each frame\nfor i in range(100):\n    random_points = np.random.random(mesh.points.shape)\n    mesh.points = random_points*0.01 + mesh.points*0.99\n    mesh.points -= mesh.points.mean(0)\n    mesh.cell_arrays['data'] = np.random.random(mesh.n_cells)\n    plotter.write_frame() # Write this frame\n\n# Be sure to close the plotter when finished\nplotter.close()"
      ]
    },
    {
      "cell_type": "markdown",
      "source": [
        ".. figure:: ../../images/auto-generated/sphere-shrinking.mp4\n\n"
      ],
      "metadata": {}
    }
  ],
  "nbformat": 4,
  "metadata": {
    "kernelspec": {
      "language": "python",
      "display_name": "Python 3",
      "name": "python3"
    },
    "language_info": {
      "nbconvert_exporter": "python",
      "codemirror_mode": {
        "version": 3,
        "name": "ipython"
      },
      "pygments_lexer": "ipython3",
      "file_extension": ".py",
      "version": "3.5.6",
      "mimetype": "text/x-python",
      "name": "python"
    }
  },
  "nbformat_minor": 0
}