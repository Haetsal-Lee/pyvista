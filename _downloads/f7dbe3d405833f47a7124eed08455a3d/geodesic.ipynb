{
  "cells": [
    {
      "cell_type": "code",
      "execution_count": null,
      "outputs": [],
      "metadata": {
        "collapsed": false
      },
      "source": [
        "%matplotlib inline"
      ]
    },
    {
      "cell_type": "markdown",
      "source": [
        "\nGeodesic Paths\n~~~~~~~~~~~~~~\n\nCalculates the geodesic path betweeen two vertices using Dijkstra's algorithm\n\n"
      ],
      "metadata": {}
    },
    {
      "cell_type": "code",
      "execution_count": null,
      "outputs": [],
      "metadata": {
        "collapsed": false
      },
      "source": [
        "# sphinx_gallery_thumbnail_number = 1\nimport vtki\nfrom vtki import examples\n\nsphere = examples.load_globe()"
      ]
    },
    {
      "cell_type": "markdown",
      "source": [
        "Get teh geodesic path as a new :class:`vtki.PolyData` object:\n\n"
      ],
      "metadata": {}
    },
    {
      "cell_type": "code",
      "execution_count": null,
      "outputs": [],
      "metadata": {
        "collapsed": false
      },
      "source": [
        "geodesic = sphere.geodesic(0, sphere.n_points - 1)"
      ]
    },
    {
      "cell_type": "markdown",
      "source": [
        "Render the path along the sphere\n\n"
      ],
      "metadata": {}
    },
    {
      "cell_type": "code",
      "execution_count": null,
      "outputs": [],
      "metadata": {
        "collapsed": false
      },
      "source": [
        "p = vtki.Plotter()\np.add_mesh(geodesic, line_width=10, color='red', label='Geodesic Path')\np.add_mesh(sphere, show_edges=True, )\np.camera_position = [-1,-1,1]\np.add_legend()\np.show()"
      ]
    },
    {
      "cell_type": "markdown",
      "source": [
        "How long is that path?\n\n"
      ],
      "metadata": {}
    },
    {
      "cell_type": "code",
      "execution_count": null,
      "outputs": [],
      "metadata": {
        "collapsed": false
      },
      "source": [
        "distance = sphere.geodesic_distance(0, sphere.n_points - 1)\nprint(distance)"
      ]
    }
  ],
  "nbformat": 4,
  "metadata": {
    "kernelspec": {
      "language": "python",
      "display_name": "Python 3",
      "name": "python3"
    },
    "language_info": {
      "nbconvert_exporter": "python",
      "codemirror_mode": {
        "version": 3,
        "name": "ipython"
      },
      "pygments_lexer": "ipython3",
      "file_extension": ".py",
      "version": "3.5.6",
      "mimetype": "text/x-python",
      "name": "python"
    }
  },
  "nbformat_minor": 0
}